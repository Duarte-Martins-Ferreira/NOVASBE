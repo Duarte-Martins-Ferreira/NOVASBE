{
 "cells": [
  {
   "cell_type": "markdown",
   "metadata": {},
   "source": [
    "[![Binder](../img/badge-binder.svg)](https://mybinder.org/v2/gh/nhirschey/teaching/gh-pages?filepath=assignments/assignment-performance-evaluation.ipynb)&emsp;\n",
    "[![Script](../img/badge-script.svg)](/Teaching//assignments/assignment-performance-evaluation.fsx)&emsp;\n",
    "[![Notebook](../img/badge-notebook.svg)](/Teaching//assignments/assignment-performance-evaluation.ipynb)\n",
    "Group Name:\n",
    "\n",
    "Student Name | Student Number\n",
    "--- | ---\n",
    "**1:** | &#32;\n",
    "**2:** | &#32;\n",
    "**3:** | &#32;\n",
    "**4:** | &#32;\n",
    "**5:** | &#32;\n",
    "\n",
    "\n",
    "This is an assignment. You should work in groups. Please write your group and group member names above. You will find sections labeled **Task** asking you to do each piece of analysis. Please make sure that you complete all of these tasks. I included some tests to help you see if you are calculating the solution correctly, but if you cannot get the test to pass submit your best attempt and you may recieve partial credit.\n",
    "\n",
    "All work that you submit should be your own. Make use of the course resources and example code on the course website. It should be possible to complete all the requested tasks using information given below or somewhere on the course website.\n",
    "\n",
    "For testing\n",
    "\n"
   ]
  },
  {
   "cell_type": "code",
   "execution_count": 2,
   "metadata": {
    "dotnet_interactive": {
     "language": "fsharp"
    },
    "polyglot_notebook": {
     "kernelName": "fsharp"
    }
   },
   "outputs": [
    {
     "data": {
      "text/html": [
       "<div><div></div><div></div><div><strong>Installed Packages</strong><ul><li><span>FsUnit.Xunit, 5.3.0</span></li><li><span>xunit, 2.4.2</span></li></ul></div></div>"
      ]
     },
     "metadata": {},
     "output_type": "display_data"
    }
   ],
   "source": [
    "#r \"nuget: FsUnit.Xunit\"\n",
    "#r \"nuget: xunit, 2.*\"\n",
    "open Xunit\n",
    "open FsUnit.Xunit\n",
    "open FsUnitTyped\n"
   ]
  },
  {
   "cell_type": "markdown",
   "metadata": {},
   "source": [
    "For the assignment\n",
    "\n"
   ]
  },
  {
   "cell_type": "code",
   "execution_count": 3,
   "metadata": {
    "dotnet_interactive": {
     "language": "fsharp"
    },
    "polyglot_notebook": {
     "kernelName": "fsharp"
    }
   },
   "outputs": [
    {
     "data": {
      "text/html": [
       "<div><div></div><div></div><div><strong>Installed Packages</strong><ul><li><span>FSharp.Data, 6.2.0</span></li><li><span>FSharp.Stats, 0.4.11</span></li><li><span>FsUnit.Xunit, 5.3.0</span></li><li><span>MathNet.Numerics, 5.0.0</span></li><li><span>MathNet.Numerics.FSharp, 5.0.0</span></li><li><span>NovaSBE.Finance, 0.2.0-beta1</span></li><li><span>Plotly.NET, 3.0.1</span></li><li><span>xunit, 2.4.2</span></li></ul></div></div>"
      ]
     },
     "metadata": {},
     "output_type": "display_data"
    }
   ],
   "source": [
    "#r \"nuget:FSharp.Data\"\n",
    "#r \"nuget: FSharp.Stats\"\n",
    "#r \"nuget: NovaSBE.Finance, 0.2.0-beta1\"\n",
    "#r \"nuget: MathNet.Numerics\"\n",
    "#r \"nuget: MathNet.Numerics.FSharp\"\n",
    "#r \"nuget: Plotly.NET, 3.*\"\n"
   ]
  },
  {
   "cell_type": "code",
   "execution_count": 4,
   "metadata": {
    "dotnet_interactive": {
     "language": "fsharp"
    },
    "polyglot_notebook": {
     "kernelName": "fsharp"
    }
   },
   "outputs": [
    {
     "data": {
      "text/html": [
       "<div><div></div><div></div><div><strong>Installed Packages</strong><ul><li><span>FSharp.Data, 6.2.0</span></li><li><span>FSharp.Stats, 0.4.11</span></li><li><span>FsUnit.Xunit, 5.3.0</span></li><li><span>MathNet.Numerics, 5.0.0</span></li><li><span>MathNet.Numerics.FSharp, 5.0.0</span></li><li><span>NovaSBE.Finance, 0.2.0-beta1</span></li><li><span>Plotly.NET, 3.0.1</span></li><li><span>Plotly.NET.Interactive, 3.0.2</span></li><li><span>xunit, 2.4.2</span></li></ul></div></div>"
      ]
     },
     "metadata": {},
     "output_type": "display_data"
    },
    {
     "data": {
      "text/plain": [
       "Loading extensions from `/Users/martins/.nuget/packages/plotly.net.interactive/3.0.2/interactive-extensions/dotnet/Plotly.NET.Interactive.dll`"
      ]
     },
     "metadata": {},
     "output_type": "display_data"
    }
   ],
   "source": [
    "#r \"nuget: Plotly.NET.Interactive, 3.*\"\n"
   ]
  },
  {
   "cell_type": "code",
   "execution_count": 5,
   "metadata": {
    "dotnet_interactive": {
     "language": "fsharp"
    },
    "polyglot_notebook": {
     "kernelName": "fsharp"
    }
   },
   "outputs": [],
   "source": [
    "open System\n",
    "open FSharp.Data\n",
    "open Plotly.NET\n",
    "open FSharp.Stats\n",
    "open MathNet.Numerics.Statistics\n",
    "open NovaSBE.Finance.Ols\n"
   ]
  },
  {
   "cell_type": "markdown",
   "metadata": {},
   "source": [
    "## Load Data\n",
    "\n",
    "First, make sure that you're referencing the correct files.\n",
    "\n",
    "Here I'm assuming that you have a class folder with this notebook and a `data` folder inside of it. The folder hierarchy would look like below where you\n",
    "have the below files and folders accessible:\n",
    "\n",
    "```code\n",
    "/class\n",
    "    notebook.ipynb\n",
    "    id_and_return_data.csv\n",
    "    rd_sale.csv\n",
    "    \n",
    "```\n"
   ]
  },
  {
   "cell_type": "code",
   "execution_count": 6,
   "metadata": {
    "dotnet_interactive": {
     "language": "fsharp"
    },
    "polyglot_notebook": {
     "kernelName": "fsharp"
    }
   },
   "outputs": [],
   "source": [
    "open NovaSBE.Finance.Portfolio\n"
   ]
  },
  {
   "cell_type": "markdown",
   "metadata": {},
   "source": [
    "### Data files\n",
    "\n",
    "We assume the `id_and_return_data.csv` file and the signal csv file  are in the notebook folder.\n",
    "\n"
   ]
  },
  {
   "cell_type": "code",
   "execution_count": 7,
   "metadata": {
    "dotnet_interactive": {
     "language": "fsharp"
    },
    "polyglot_notebook": {
     "kernelName": "fsharp"
    }
   },
   "outputs": [],
   "source": [
    "let [<Literal>] IdAndReturnsFilePath = \"id_and_return_data.csv\"\n",
    "let [<Literal>] MySignalFilePath = \"eqnpo_me.csv\"\n",
    "let strategyName = \"Net Payout Yield\"\n"
   ]
  },
  {
   "cell_type": "markdown",
   "metadata": {},
   "source": [
    "If my paths are correct, then this code should read the first few lines of the files.\n",
    "If it doesn't show the first few lines, fix the above file paths.\n",
    "\n"
   ]
  },
  {
   "cell_type": "code",
   "execution_count": 9,
   "metadata": {
    "dotnet_interactive": {
     "language": "fsharp"
    },
    "polyglot_notebook": {
     "kernelName": "fsharp"
    }
   },
   "outputs": [
    {
     "name": "stdout",
     "output_type": "stream",
     "text": [
      "\"id(string),eom(date),source(string),sizeGrp(string),obsMain(bool),exchMain(bool),primarySec(bool),gvkey(string),iid(string),permno(int Option),permco(int Option),excntry(string),curcd(string),fx(string),common(bool),compTpci(string),crspShrcd(int Option),compExchg(string),crsp_exchcd(int Option),adjfct(float Option),shares(float Option),gics(int Option),sic(int Option),naics(int Option),ff49(int Option),ret(float Option),retExc(float Option),prc(float Option),marketEquity(float Option)\"\n",
      "\"crsp_86432,2000-01-31T00:00:00.0000000,CRSP,micro,1,1,true,115876,01,86432,16313,USA,USD,1,true,,11,,3,2,5.218,40101010,6020,522110,45,-0.003906,-0.00824925,15.9375,83.161875\"\n",
      "\"crsp_85640,2000-01-31T00:00:00.0000000,CRSP,small,1,1,true,002193,01,85640,20300,USA,USD,1,true,,11,,1,1,102.496,35102020,8051,623110,11,-0.157143,-0.161485863,3.6875,377.954\"\n",
      "\"crsp_86430,2000-01-31T00:00:00.0000000,CRSP,micro,1,1,true,115946,01,86430,16319,USA,USD,1,true,,11,,3,1,10.764,45103010,7372,511210,36,0.285714,0.2813712985,3.9375,42.38325\"\n",
      "\"crsp_85756,2000-01-31T00:00:00.0000000,CRSP,nano,1,1,true,066389,01,85756,15930,USA,USD,1,true,,11,,3,1,1.582,,6720,,48,0.190685,0.1863418699,10.25,16.2155\"\n"
     ]
    }
   ],
   "source": [
    "IO.File.ReadLines(IdAndReturnsFilePath) \n",
    "|> Seq.truncate 5\n",
    "|> Seq.iter (printfn \"%A\")\n"
   ]
  },
  {
   "cell_type": "code",
   "execution_count": 10,
   "metadata": {
    "dotnet_interactive": {
     "language": "fsharp"
    },
    "polyglot_notebook": {
     "kernelName": "fsharp"
    }
   },
   "outputs": [
    {
     "name": "stdout",
     "output_type": "stream",
     "text": [
      "\"id(string),eom(date),signal(float option)\"\n",
      "\"comp_001034_01,2008-12-31T00:00:00.0000000,0.0129194801\"\n",
      "\"comp_001043_01,2000-01-31T00:00:00.0000000,0\"\n",
      "\"comp_001076_02,2010-12-31T00:00:00.0000000,0.0017061186\"\n",
      "\"comp_001081_01,2007-10-31T00:00:00.0000000,0.0189993385\"\n"
     ]
    }
   ],
   "source": [
    "IO.File.ReadLines(MySignalFilePath) \n",
    "|> Seq.truncate 5\n",
    "|> Seq.iter (printfn \"%A\")\n"
   ]
  },
  {
   "cell_type": "markdown",
   "metadata": {},
   "source": [
    "Ok, now assuming those paths were correct the below code will work.\n",
    "I will put all this prep code in one block so that it is easy to run.\n",
    "\n"
   ]
  },
  {
   "cell_type": "code",
   "execution_count": 11,
   "metadata": {
    "dotnet_interactive": {
     "language": "fsharp"
    },
    "polyglot_notebook": {
     "kernelName": "fsharp"
    }
   },
   "outputs": [],
   "source": [
    "let idAndReturnsCsv = \n",
    "    CsvProvider<IdAndReturnsFilePath,ResolutionFolder = __SOURCE_DIRECTORY__>.GetSample().Rows \n",
    "    |> Seq.toList\n",
    "let mySignalCsv = \n",
    "    CsvProvider<MySignalFilePath,ResolutionFolder = __SOURCE_DIRECTORY__>.GetSample().Rows \n",
    "    |> Seq.toList\n"
   ]
  },
  {
   "cell_type": "markdown",
   "metadata": {},
   "source": [
    "A list of `Signal` records. The signal type is defined in the `NovaSBE.Finance.Portfolio` module [here](https://github.com/nhirschey/NovaSBE.Finance/blob/6d1398625e5a9279af00bb6e1c1802af3596c3f6/src/NovaSBE.Finance/Portfolio.fs#L178-L181).\n",
    "\n"
   ]
  },
  {
   "cell_type": "code",
   "execution_count": 12,
   "metadata": {
    "dotnet_interactive": {
     "language": "fsharp"
    },
    "polyglot_notebook": {
     "kernelName": "fsharp"
    }
   },
   "outputs": [
    {
     "data": {
      "text/html": [
       "<table><thead><tr><th><i>index</i></th><th>value</th></tr></thead><tbody><tr><td>0</td><td><details class=\"dni-treeview\"><summary><span class=\"dni-code-hint\"><code>{ SecurityId = Other \"comp_001034_01\"\\n  FormationDate = 01/12/2008 00:00:00\\n  Signal = 0.0129194801 }</code></span></summary><div><table><thead><tr></tr></thead><tbody><tr><td>SecurityId</td><td><details class=\"dni-treeview\"><summary><span class=\"dni-code-hint\"><code>Other \"comp_001034_01\"</code></span></summary><div><table><thead><tr></tr></thead><tbody><tr><td>Item</td><td>comp_001034_01</td></tr></tbody></table></div></details></td></tr><tr><td>FormationDate</td><td><span>2008-12-01 00:00:00Z</span></td></tr><tr><td>Signal</td><td><div class=\"dni-plaintext\"><pre>0.0129194801</pre></div></td></tr></tbody></table></div></details></td></tr><tr><td>1</td><td><details class=\"dni-treeview\"><summary><span class=\"dni-code-hint\"><code>{ SecurityId = Other \"comp_001043_01\"\\n  FormationDate = 01/01/2000 00:00:00\\n  Signal = 0.0 }</code></span></summary><div><table><thead><tr></tr></thead><tbody><tr><td>SecurityId</td><td><details class=\"dni-treeview\"><summary><span class=\"dni-code-hint\"><code>Other \"comp_001043_01\"</code></span></summary><div><table><thead><tr></tr></thead><tbody><tr><td>Item</td><td>comp_001043_01</td></tr></tbody></table></div></details></td></tr><tr><td>FormationDate</td><td><span>2000-01-01 00:00:00Z</span></td></tr><tr><td>Signal</td><td><div class=\"dni-plaintext\"><pre>0</pre></div></td></tr></tbody></table></div></details></td></tr><tr><td>2</td><td><details class=\"dni-treeview\"><summary><span class=\"dni-code-hint\"><code>{ SecurityId = Other \"comp_001076_02\"\\n  FormationDate = 01/12/2010 00:00:00\\n  Signal = 0.0017061186 }</code></span></summary><div><table><thead><tr></tr></thead><tbody><tr><td>SecurityId</td><td><details class=\"dni-treeview\"><summary><span class=\"dni-code-hint\"><code>Other \"comp_001076_02\"</code></span></summary><div><table><thead><tr></tr></thead><tbody><tr><td>Item</td><td>comp_001076_02</td></tr></tbody></table></div></details></td></tr><tr><td>FormationDate</td><td><span>2010-12-01 00:00:00Z</span></td></tr><tr><td>Signal</td><td><div class=\"dni-plaintext\"><pre>0.0017061186</pre></div></td></tr></tbody></table></div></details></td></tr><tr><td>3</td><td><details class=\"dni-treeview\"><summary><span class=\"dni-code-hint\"><code>{ SecurityId = Other \"comp_001081_01\"\\n  FormationDate = 01/10/2007 00:00:00\\n  Signal = 0.0189993385 }</code></span></summary><div><table><thead><tr></tr></thead><tbody><tr><td>SecurityId</td><td><details class=\"dni-treeview\"><summary><span class=\"dni-code-hint\"><code>Other \"comp_001081_01\"</code></span></summary><div><table><thead><tr></tr></thead><tbody><tr><td>Item</td><td>comp_001081_01</td></tr></tbody></table></div></details></td></tr><tr><td>FormationDate</td><td><span>2007-10-01 00:00:00Z</span></td></tr><tr><td>Signal</td><td><div class=\"dni-plaintext\"><pre>0.0189993385</pre></div></td></tr></tbody></table></div></details></td></tr></tbody></table><style>\r\n",
       ".dni-code-hint {\r\n",
       "    font-style: italic;\r\n",
       "    overflow: hidden;\r\n",
       "    white-space: nowrap;\r\n",
       "}\r\n",
       ".dni-treeview {\r\n",
       "    white-space: nowrap;\r\n",
       "}\r\n",
       ".dni-treeview td {\r\n",
       "    vertical-align: top;\r\n",
       "    text-align: start;\r\n",
       "}\r\n",
       "details.dni-treeview {\r\n",
       "    padding-left: 1em;\r\n",
       "}\r\n",
       "table td {\r\n",
       "    text-align: start;\r\n",
       "}\r\n",
       "table tr { \r\n",
       "    vertical-align: top; \r\n",
       "    margin: 0em 0px;\r\n",
       "}\r\n",
       "table tr td pre \r\n",
       "{ \r\n",
       "    vertical-align: top !important; \r\n",
       "    margin: 0em 0px !important;\r\n",
       "} \r\n",
       "table th {\r\n",
       "    text-align: start;\r\n",
       "}\r\n",
       "</style>"
      ]
     },
     "metadata": {},
     "output_type": "display_data"
    }
   ],
   "source": [
    "let mySignals =\n",
    "    mySignalCsv\n",
    "    |> List.choose (fun row -> \n",
    "        match row.Signal with\n",
    "        | None -> None\n",
    "        | Some signal ->\n",
    "            let signalRecord: Signal =\n",
    "                { SecurityId = Other row.Id\n",
    "                  FormationDate = DateTime(row.Eom.Year, row.Eom.Month, 1)\n",
    "                  Signal = signal }\n",
    "            Some signalRecord)\n",
    "\n",
    "// look at a few signals\n",
    "mySignals[..3]\n"
   ]
  },
  {
   "cell_type": "markdown",
   "metadata": {},
   "source": [
    "A list of Security return records. The `SecurityReturn` type is defined in the `NovaSBE.Finance.Portfolio` module [here](https://github.com/nhirschey/NovaSBE.Finance/blob/6d1398625e5a9279af00bb6e1c1802af3596c3f6/src/NovaSBE.Finance/Portfolio.fs#L173-L176)\n",
    "\n"
   ]
  },
  {
   "cell_type": "code",
   "execution_count": 13,
   "metadata": {
    "dotnet_interactive": {
     "language": "fsharp"
    },
    "polyglot_notebook": {
     "kernelName": "fsharp"
    }
   },
   "outputs": [
    {
     "data": {
      "text/html": [
       "<table><thead><tr><th><i>index</i></th><th>value</th></tr></thead><tbody><tr><td>0</td><td><details class=\"dni-treeview\"><summary><span class=\"dni-code-hint\"><code>{ SecurityId = Other \"crsp_86432\"\\n  Date = 01/01/2000 00:00:00\\n  Return = -0.003906 }</code></span></summary><div><table><thead><tr></tr></thead><tbody><tr><td>SecurityId</td><td><details class=\"dni-treeview\"><summary><span class=\"dni-code-hint\"><code>Other \"crsp_86432\"</code></span></summary><div><table><thead><tr></tr></thead><tbody><tr><td>Item</td><td>crsp_86432</td></tr></tbody></table></div></details></td></tr><tr><td>Date</td><td><span>2000-01-01 00:00:00Z</span></td></tr><tr><td>Return</td><td><div class=\"dni-plaintext\"><pre>-0.003906</pre></div></td></tr></tbody></table></div></details></td></tr><tr><td>1</td><td><details class=\"dni-treeview\"><summary><span class=\"dni-code-hint\"><code>{ SecurityId = Other \"crsp_85640\"\\n  Date = 01/01/2000 00:00:00\\n  Return = -0.157143 }</code></span></summary><div><table><thead><tr></tr></thead><tbody><tr><td>SecurityId</td><td><details class=\"dni-treeview\"><summary><span class=\"dni-code-hint\"><code>Other \"crsp_85640\"</code></span></summary><div><table><thead><tr></tr></thead><tbody><tr><td>Item</td><td>crsp_85640</td></tr></tbody></table></div></details></td></tr><tr><td>Date</td><td><span>2000-01-01 00:00:00Z</span></td></tr><tr><td>Return</td><td><div class=\"dni-plaintext\"><pre>-0.157143</pre></div></td></tr></tbody></table></div></details></td></tr><tr><td>2</td><td><details class=\"dni-treeview\"><summary><span class=\"dni-code-hint\"><code>{ SecurityId = Other \"crsp_86430\"\\n  Date = 01/01/2000 00:00:00\\n  Return = 0.285714 }</code></span></summary><div><table><thead><tr></tr></thead><tbody><tr><td>SecurityId</td><td><details class=\"dni-treeview\"><summary><span class=\"dni-code-hint\"><code>Other \"crsp_86430\"</code></span></summary><div><table><thead><tr></tr></thead><tbody><tr><td>Item</td><td>crsp_86430</td></tr></tbody></table></div></details></td></tr><tr><td>Date</td><td><span>2000-01-01 00:00:00Z</span></td></tr><tr><td>Return</td><td><div class=\"dni-plaintext\"><pre>0.285714</pre></div></td></tr></tbody></table></div></details></td></tr><tr><td>3</td><td><details class=\"dni-treeview\"><summary><span class=\"dni-code-hint\"><code>{ SecurityId = Other \"crsp_85756\"\\n  Date = 01/01/2000 00:00:00\\n  Return = 0.190685 }</code></span></summary><div><table><thead><tr></tr></thead><tbody><tr><td>SecurityId</td><td><details class=\"dni-treeview\"><summary><span class=\"dni-code-hint\"><code>Other \"crsp_85756\"</code></span></summary><div><table><thead><tr></tr></thead><tbody><tr><td>Item</td><td>crsp_85756</td></tr></tbody></table></div></details></td></tr><tr><td>Date</td><td><span>2000-01-01 00:00:00Z</span></td></tr><tr><td>Return</td><td><div class=\"dni-plaintext\"><pre>0.190685</pre></div></td></tr></tbody></table></div></details></td></tr></tbody></table><style>\r\n",
       ".dni-code-hint {\r\n",
       "    font-style: italic;\r\n",
       "    overflow: hidden;\r\n",
       "    white-space: nowrap;\r\n",
       "}\r\n",
       ".dni-treeview {\r\n",
       "    white-space: nowrap;\r\n",
       "}\r\n",
       ".dni-treeview td {\r\n",
       "    vertical-align: top;\r\n",
       "    text-align: start;\r\n",
       "}\r\n",
       "details.dni-treeview {\r\n",
       "    padding-left: 1em;\r\n",
       "}\r\n",
       "table td {\r\n",
       "    text-align: start;\r\n",
       "}\r\n",
       "table tr { \r\n",
       "    vertical-align: top; \r\n",
       "    margin: 0em 0px;\r\n",
       "}\r\n",
       "table tr td pre \r\n",
       "{ \r\n",
       "    vertical-align: top !important; \r\n",
       "    margin: 0em 0px !important;\r\n",
       "} \r\n",
       "table th {\r\n",
       "    text-align: start;\r\n",
       "}\r\n",
       "</style>"
      ]
     },
     "metadata": {},
     "output_type": "display_data"
    }
   ],
   "source": [
    "let myReturns =\n",
    "    idAndReturnsCsv\n",
    "    |> List.choose (fun row -> \n",
    "        match row.Ret with\n",
    "        | None -> None\n",
    "        | Some ret ->\n",
    "            let ret: SecurityReturn =\n",
    "                { SecurityId = Other row.Id\n",
    "                  Date = DateTime(row.Eom.Year, row.Eom.Month, 1)\n",
    "                  Return= ret }\n",
    "            Some ret)\n",
    "\n",
    "// look at a few returns\n",
    "myReturns[..3]\n"
   ]
  },
  {
   "cell_type": "markdown",
   "metadata": {},
   "source": [
    "A list of security market caps. We'll need this for value-weight portfolios. The `WeightVariable` type is defined in the `NovaSBE.Finance.Portfolio` module [here](https://github.com/nhirschey/NovaSBE.Finance/blob/6d1398625e5a9279af00bb6e1c1802af3596c3f6/src/NovaSBE.Finance/Portfolio.fs#L183-L186).\n",
    "\n"
   ]
  },
  {
   "cell_type": "code",
   "execution_count": 14,
   "metadata": {
    "dotnet_interactive": {
     "language": "fsharp"
    },
    "polyglot_notebook": {
     "kernelName": "fsharp"
    }
   },
   "outputs": [
    {
     "data": {
      "text/html": [
       "<table><thead><tr><th><i>index</i></th><th>value</th></tr></thead><tbody><tr><td>0</td><td><details class=\"dni-treeview\"><summary><span class=\"dni-code-hint\"><code>{ SecurityId = Other \"crsp_86432\"\\n  FormationDate = 01/01/2000 00:00:00\\n  Value = 83.161875 }</code></span></summary><div><table><thead><tr></tr></thead><tbody><tr><td>SecurityId</td><td><details class=\"dni-treeview\"><summary><span class=\"dni-code-hint\"><code>Other \"crsp_86432\"</code></span></summary><div><table><thead><tr></tr></thead><tbody><tr><td>Item</td><td>crsp_86432</td></tr></tbody></table></div></details></td></tr><tr><td>FormationDate</td><td><span>2000-01-01 00:00:00Z</span></td></tr><tr><td>Value</td><td><div class=\"dni-plaintext\"><pre>83.161875</pre></div></td></tr></tbody></table></div></details></td></tr><tr><td>1</td><td><details class=\"dni-treeview\"><summary><span class=\"dni-code-hint\"><code>{ SecurityId = Other \"crsp_85640\"\\n  FormationDate = 01/01/2000 00:00:00\\n  Value = 377.954 }</code></span></summary><div><table><thead><tr></tr></thead><tbody><tr><td>SecurityId</td><td><details class=\"dni-treeview\"><summary><span class=\"dni-code-hint\"><code>Other \"crsp_85640\"</code></span></summary><div><table><thead><tr></tr></thead><tbody><tr><td>Item</td><td>crsp_85640</td></tr></tbody></table></div></details></td></tr><tr><td>FormationDate</td><td><span>2000-01-01 00:00:00Z</span></td></tr><tr><td>Value</td><td><div class=\"dni-plaintext\"><pre>377.954</pre></div></td></tr></tbody></table></div></details></td></tr><tr><td>2</td><td><details class=\"dni-treeview\"><summary><span class=\"dni-code-hint\"><code>{ SecurityId = Other \"crsp_86430\"\\n  FormationDate = 01/01/2000 00:00:00\\n  Value = 42.38325 }</code></span></summary><div><table><thead><tr></tr></thead><tbody><tr><td>SecurityId</td><td><details class=\"dni-treeview\"><summary><span class=\"dni-code-hint\"><code>Other \"crsp_86430\"</code></span></summary><div><table><thead><tr></tr></thead><tbody><tr><td>Item</td><td>crsp_86430</td></tr></tbody></table></div></details></td></tr><tr><td>FormationDate</td><td><span>2000-01-01 00:00:00Z</span></td></tr><tr><td>Value</td><td><div class=\"dni-plaintext\"><pre>42.38325</pre></div></td></tr></tbody></table></div></details></td></tr><tr><td>3</td><td><details class=\"dni-treeview\"><summary><span class=\"dni-code-hint\"><code>{ SecurityId = Other \"crsp_85756\"\\n  FormationDate = 01/01/2000 00:00:00\\n  Value = 16.2155 }</code></span></summary><div><table><thead><tr></tr></thead><tbody><tr><td>SecurityId</td><td><details class=\"dni-treeview\"><summary><span class=\"dni-code-hint\"><code>Other \"crsp_85756\"</code></span></summary><div><table><thead><tr></tr></thead><tbody><tr><td>Item</td><td>crsp_85756</td></tr></tbody></table></div></details></td></tr><tr><td>FormationDate</td><td><span>2000-01-01 00:00:00Z</span></td></tr><tr><td>Value</td><td><div class=\"dni-plaintext\"><pre>16.2155</pre></div></td></tr></tbody></table></div></details></td></tr></tbody></table><style>\r\n",
       ".dni-code-hint {\r\n",
       "    font-style: italic;\r\n",
       "    overflow: hidden;\r\n",
       "    white-space: nowrap;\r\n",
       "}\r\n",
       ".dni-treeview {\r\n",
       "    white-space: nowrap;\r\n",
       "}\r\n",
       ".dni-treeview td {\r\n",
       "    vertical-align: top;\r\n",
       "    text-align: start;\r\n",
       "}\r\n",
       "details.dni-treeview {\r\n",
       "    padding-left: 1em;\r\n",
       "}\r\n",
       "table td {\r\n",
       "    text-align: start;\r\n",
       "}\r\n",
       "table tr { \r\n",
       "    vertical-align: top; \r\n",
       "    margin: 0em 0px;\r\n",
       "}\r\n",
       "table tr td pre \r\n",
       "{ \r\n",
       "    vertical-align: top !important; \r\n",
       "    margin: 0em 0px !important;\r\n",
       "} \r\n",
       "table th {\r\n",
       "    text-align: start;\r\n",
       "}\r\n",
       "</style>"
      ]
     },
     "metadata": {},
     "output_type": "display_data"
    }
   ],
   "source": [
    "let myMktCaps =\n",
    "    idAndReturnsCsv\n",
    "    |> List.choose (fun row -> \n",
    "        match row.MarketEquity with\n",
    "        | None -> None\n",
    "        | Some mktCap ->\n",
    "            let mktCap: WeightVariable =\n",
    "                { SecurityId = Other row.Id\n",
    "                  FormationDate = DateTime(row.Eom.Year, row.Eom.Month, 1)\n",
    "                  Value = mktCap }\n",
    "            Some mktCap)\n",
    "\n",
    "// look at a few market caps\n",
    "myMktCaps[..3]\n"
   ]
  },
  {
   "cell_type": "markdown",
   "metadata": {},
   "source": [
    "## Forming our strategy\n",
    "\n",
    "We're now going to use the `Backtest` code to generate portfolios. It is defined in the `NovaSBE.Finance.Portfolio` module [here](https://github.com/nhirschey/NovaSBE.Finance/blob/6d1398625e5a9279af00bb6e1c1802af3596c3f6/src/NovaSBE.Finance/Portfolio.fs#L199).\n",
    "The `Backtest` class automates some of the code we did earlier to make portfolio construction simpler.\n",
    "\n"
   ]
  },
  {
   "cell_type": "code",
   "execution_count": 13,
   "metadata": {
    "dotnet_interactive": {
     "language": "fsharp"
    },
    "polyglot_notebook": {
     "kernelName": "fsharp"
    }
   },
   "outputs": [],
   "source": [
    "let backtest = Backtest(returns=myReturns, signals=mySignals, nPortfolios=3, name = strategyName)\n"
   ]
  },
  {
   "cell_type": "markdown",
   "metadata": {},
   "source": [
    "### Value Weighted Portfolios\n",
    "\n"
   ]
  },
  {
   "cell_type": "code",
   "execution_count": 14,
   "metadata": {
    "dotnet_interactive": {
     "language": "fsharp"
    },
    "polyglot_notebook": {
     "kernelName": "fsharp"
    }
   },
   "outputs": [
    {
     "data": {
      "text/html": [
       "<table><thead><tr><th><i>index</i></th><th>value</th></tr></thead><tbody><tr><td>0</td><td><details class=\"dni-treeview\"><summary><span class=\"dni-code-hint\"><code>{ Name = \"R&D to sales\"\\n  Index = 1\\n  FormationMonth = 01/12/2008 00:00:00\\n  Positions =\\n   [{ SecurityId = Other \"crsp_92788\"\\n      Weight = 6.011819402e-06 }; { SecurityId = Other \"crsp_89889\"\\n                                    Weight = 4.113690326e-06 };\\n    { SecurityId = Other \"crsp_844...</code></span></summary><div><table><thead><tr></tr></thead><tbody><tr><td>Name</td><td>R&amp;D to sales</td></tr><tr><td>Index</td><td><div class=\"dni-plaintext\"><pre>1</pre></div></td></tr><tr><td>FormationMonth</td><td><span>2008-12-01 00:00:00Z</span></td></tr><tr><td>Positions</td><td><table><thead><tr><th><i>index</i></th><th>value</th></tr></thead><tbody><tr><td>0</td><td><details class=\"dni-treeview\"><summary><span class=\"dni-code-hint\"><code>{ SecurityId = Other \"crsp_92788\"\\n  Weight = 6.011819402e-06 }</code></span></summary><div><table><thead><tr></tr></thead><tbody><tr><td>SecurityId</td><td><details class=\"dni-treeview\"><summary><span class=\"dni-code-hint\"><code>Other \"crsp_92788\"</code></span></summary><div><table><thead><tr></tr></thead><tbody><tr><td>Item</td><td>crsp_92788</td></tr></tbody></table></div></details></td></tr><tr><td>Weight</td><td><div class=\"dni-plaintext\"><pre>6.011819402410821E-06</pre></div></td></tr></tbody></table></div></details></td></tr><tr><td>1</td><td><details class=\"dni-treeview\"><summary><span class=\"dni-code-hint\"><code>{ SecurityId = Other \"crsp_89889\"\\n  Weight = 4.113690326e-06 }</code></span></summary><div><table><thead><tr></tr></thead><tbody><tr><td>SecurityId</td><td><details class=\"dni-treeview\"><summary><span class=\"dni-code-hint\"><code>Other \"crsp_89889\"</code></span></summary><div><table><thead><tr></tr></thead><tbody><tr><td>Item</td><td>crsp_89889</td></tr></tbody></table></div></details></td></tr><tr><td>Weight</td><td><div class=\"dni-plaintext\"><pre>4.113690326282513E-06</pre></div></td></tr></tbody></table></div></details></td></tr><tr><td>2</td><td><details class=\"dni-treeview\"><summary><span class=\"dni-code-hint\"><code>{ SecurityId = Other \"crsp_84419\"\\n  Weight = 1.955907925e-06 }</code></span></summary><div><table><thead><tr></tr></thead><tbody><tr><td>SecurityId</td><td><details class=\"dni-treeview\"><summary><span class=\"dni-code-hint\"><code>Other \"crsp_84419\"</code></span></summary><div><table><thead><tr></tr></thead><tbody><tr><td>Item</td><td>crsp_84419</td></tr></tbody></table></div></details></td></tr><tr><td>Weight</td><td><div class=\"dni-plaintext\"><pre>1.9559079251269987E-06</pre></div></td></tr></tbody></table></div></details></td></tr><tr><td>3</td><td><details class=\"dni-treeview\"><summary><span class=\"dni-code-hint\"><code>{ SecurityId = Other \"comp_013520_01\"\\n  Weight = 1.336117219e-05 }</code></span></summary><div><table><thead><tr></tr></thead><tbody><tr><td>SecurityId</td><td><details class=\"dni-treeview\"><summary><span class=\"dni-code-hint\"><code>Other \"comp_013520_01\"</code></span></summary><div><table><thead><tr></tr></thead><tbody><tr><td>Item</td><td>comp_013520_01</td></tr></tbody></table></div></details></td></tr><tr><td>Weight</td><td><div class=\"dni-plaintext\"><pre>1.3361172190407486E-05</pre></div></td></tr></tbody></table></div></details></td></tr><tr><td>4</td><td><details class=\"dni-treeview\"><summary><span class=\"dni-code-hint\"><code>{ SecurityId = Other \"comp_061586_01\"\\n  Weight = 1.876532313e-06 }</code></span></summary><div><table><thead><tr></tr></thead><tbody><tr><td>SecurityId</td><td><details class=\"dni-treeview\"><summary><span class=\"dni-code-hint\"><code>Other \"comp_061586_01\"</code></span></summary><div><table><thead><tr></tr></thead><tbody><tr><td>Item</td><td>comp_061586_01</td></tr></tbody></table></div></details></td></tr><tr><td>Weight</td><td><div class=\"dni-plaintext\"><pre>1.8765323133621455E-06</pre></div></td></tr></tbody></table></div></details></td></tr><tr><td>5</td><td><details class=\"dni-treeview\"><summary><span class=\"dni-code-hint\"><code>{ SecurityId = Other \"comp_180759_01\"\\n  Weight = 3.898808365e-05 }</code></span></summary><div><table><thead><tr></tr></thead><tbody><tr><td>SecurityId</td><td><details class=\"dni-treeview\"><summary><span class=\"dni-code-hint\"><code>Other \"comp_180759_01\"</code></span></summary><div><table><thead><tr></tr></thead><tbody><tr><td>Item</td><td>comp_180759_01</td></tr></tbody></table></div></details></td></tr><tr><td>Weight</td><td><div class=\"dni-plaintext\"><pre>3.898808365152524E-05</pre></div></td></tr></tbody></table></div></details></td></tr><tr><td>6</td><td><details class=\"dni-treeview\"><summary><span class=\"dni-code-hint\"><code>{ SecurityId = Other \"crsp_10028\"\\n  Weight = 6.870582688e-06 }</code></span></summary><div><table><thead><tr></tr></thead><tbody><tr><td>SecurityId</td><td><details class=\"dni-treeview\"><summary><span class=\"dni-code-hint\"><code>Other \"crsp_10028\"</code></span></summary><div><table><thead><tr></tr></thead><tbody><tr><td>Item</td><td>crsp_10028</td></tr></tbody></table></div></details></td></tr><tr><td>Weight</td><td><div class=\"dni-plaintext\"><pre>6.870582688010961E-06</pre></div></td></tr></tbody></table></div></details></td></tr><tr><td>7</td><td><details class=\"dni-treeview\"><summary><span class=\"dni-code-hint\"><code>{ SecurityId = Other \"crsp_10514\"\\n  Weight = 1.683447986e-05 }</code></span></summary><div><table><thead><tr></tr></thead><tbody><tr><td>SecurityId</td><td><details class=\"dni-treeview\"><summary><span class=\"dni-code-hint\"><code>Other \"crsp_10514\"</code></span></summary><div><table><thead><tr></tr></thead><tbody><tr><td>Item</td><td>crsp_10514</td></tr></tbody></table></div></details></td></tr><tr><td>Weight</td><td><div class=\"dni-plaintext\"><pre>1.683447986019152E-05</pre></div></td></tr></tbody></table></div></details></td></tr><tr><td>8</td><td><details class=\"dni-treeview\"><summary><span class=\"dni-code-hint\"><code>{ SecurityId = Other \"crsp_10693\"\\n  Weight = 0.0003964753773 }</code></span></summary><div><table><thead><tr></tr></thead><tbody><tr><td>SecurityId</td><td><details class=\"dni-treeview\"><summary><span class=\"dni-code-hint\"><code>Other \"crsp_10693\"</code></span></summary><div><table><thead><tr></tr></thead><tbody><tr><td>Item</td><td>crsp_10693</td></tr></tbody></table></div></details></td></tr><tr><td>Weight</td><td><div class=\"dni-plaintext\"><pre>0.0003964753773205057</pre></div></td></tr></tbody></table></div></details></td></tr><tr><td>9</td><td><details class=\"dni-treeview\"><summary><span class=\"dni-code-hint\"><code>{ SecurityId = Other \"crsp_11161\"\\n  Weight = 1.046455125e-06 }</code></span></summary><div><table><thead><tr></tr></thead><tbody><tr><td>SecurityId</td><td><details class=\"dni-treeview\"><summary><span class=\"dni-code-hint\"><code>Other \"crsp_11161\"</code></span></summary><div><table><thead><tr></tr></thead><tbody><tr><td>Item</td><td>crsp_11161</td></tr></tbody></table></div></details></td></tr><tr><td>Weight</td><td><div class=\"dni-plaintext\"><pre>1.0464551251566632E-06</pre></div></td></tr></tbody></table></div></details></td></tr><tr><td>10</td><td><details class=\"dni-treeview\"><summary><span class=\"dni-code-hint\"><code>{ SecurityId = Other \"crsp_11267\"\\n  Weight = 0.0001715506136 }</code></span></summary><div><table><thead><tr></tr></thead><tbody><tr><td>SecurityId</td><td><details class=\"dni-treeview\"><summary><span class=\"dni-code-hint\"><code>Other \"crsp_11267\"</code></span></summary><div><table><thead><tr></tr></thead><tbody><tr><td>Item</td><td>crsp_11267</td></tr></tbody></table></div></details></td></tr><tr><td>Weight</td><td><div class=\"dni-plaintext\"><pre>0.00017155061361068873</pre></div></td></tr></tbody></table></div></details></td></tr><tr><td>11</td><td><details class=\"dni-treeview\"><summary><span class=\"dni-code-hint\"><code>{ SecurityId = Other \"crsp_11379\"\\n  Weight = 8.852578653e-06 }</code></span></summary><div><table><thead><tr></tr></thead><tbody><tr><td>SecurityId</td><td><details class=\"dni-treeview\"><summary><span class=\"dni-code-hint\"><code>Other \"crsp_11379\"</code></span></summary><div><table><thead><tr></tr></thead><tbody><tr><td>Item</td><td>crsp_11379</td></tr></tbody></table></div></details></td></tr><tr><td>Weight</td><td><div class=\"dni-plaintext\"><pre>8.852578652683166E-06</pre></div></td></tr></tbody></table></div></details></td></tr><tr><td>12</td><td><details class=\"dni-treeview\"><summary><span class=\"dni-code-hint\"><code>{ SecurityId = Other \"crsp_11382\"\\n  Weight = 0.000255739051 }</code></span></summary><div><table><thead><tr></tr></thead><tbody><tr><td>SecurityId</td><td><details class=\"dni-treeview\"><summary><span class=\"dni-code-hint\"><code>Other \"crsp_11382\"</code></span></summary><div><table><thead><tr></tr></thead><tbody><tr><td>Item</td><td>crsp_11382</td></tr></tbody></table></div></details></td></tr><tr><td>Weight</td><td><div class=\"dni-plaintext\"><pre>0.0002557390510333805</pre></div></td></tr></tbody></table></div></details></td></tr><tr><td>13</td><td><details class=\"dni-treeview\"><summary><span class=\"dni-code-hint\"><code>{ SecurityId = Other \"crsp_11402\"\\n  Weight = 6.014983554e-06 }</code></span></summary><div><table><thead><tr></tr></thead><tbody><tr><td>SecurityId</td><td><details class=\"dni-treeview\"><summary><span class=\"dni-code-hint\"><code>Other \"crsp_11402\"</code></span></summary><div><table><thead><tr></tr></thead><tbody><tr><td>Item</td><td>crsp_11402</td></tr></tbody></table></div></details></td></tr><tr><td>Weight</td><td><div class=\"dni-plaintext\"><pre>6.014983554330307E-06</pre></div></td></tr></tbody></table></div></details></td></tr><tr><td>14</td><td><details class=\"dni-treeview\"><summary><span class=\"dni-code-hint\"><code>{ SecurityId = Other \"crsp_11510\"\\n  Weight = 8.19289123e-06 }</code></span></summary><div><table><thead><tr></tr></thead><tbody><tr><td>SecurityId</td><td><details class=\"dni-treeview\"><summary><span class=\"dni-code-hint\"><code>Other \"crsp_11510\"</code></span></summary><div><table><thead><tr></tr></thead><tbody><tr><td>Item</td><td>crsp_11510</td></tr></tbody></table></div></details></td></tr><tr><td>Weight</td><td><div class=\"dni-plaintext\"><pre>8.192891229704962E-06</pre></div></td></tr></tbody></table></div></details></td></tr><tr><td>15</td><td><details class=\"dni-treeview\"><summary><span class=\"dni-code-hint\"><code>{ SecurityId = Other \"crsp_11618\"\\n  Weight = 0.002127327242 }</code></span></summary><div><table><thead><tr></tr></thead><tbody><tr><td>SecurityId</td><td><details class=\"dni-treeview\"><summary><span class=\"dni-code-hint\"><code>Other \"crsp_11618\"</code></span></summary><div><table><thead><tr></tr></thead><tbody><tr><td>Item</td><td>crsp_11618</td></tr></tbody></table></div></details></td></tr><tr><td>Weight</td><td><div class=\"dni-plaintext\"><pre>0.002127327242279367</pre></div></td></tr></tbody></table></div></details></td></tr><tr><td>16</td><td><details class=\"dni-treeview\"><summary><span class=\"dni-code-hint\"><code>{ SecurityId = Other \"crsp_11891\"\\n  Weight = 0.001563625419 }</code></span></summary><div><table><thead><tr></tr></thead><tbody><tr><td>SecurityId</td><td><details class=\"dni-treeview\"><summary><span class=\"dni-code-hint\"><code>Other \"crsp_11891\"</code></span></summary><div><table><thead><tr></tr></thead><tbody><tr><td>Item</td><td>crsp_11891</td></tr></tbody></table></div></details></td></tr><tr><td>Weight</td><td><div class=\"dni-plaintext\"><pre>0.0015636254194532145</pre></div></td></tr></tbody></table></div></details></td></tr><tr><td>17</td><td><details class=\"dni-treeview\"><summary><span class=\"dni-code-hint\"><code>{ SecurityId = Other \"crsp_12173\"\\n  Weight = 0.0001662955403 }</code></span></summary><div><table><thead><tr></tr></thead><tbody><tr><td>SecurityId</td><td><details class=\"dni-treeview\"><summary><span class=\"dni-code-hint\"><code>Other \"crsp_12173\"</code></span></summary><div><table><thead><tr></tr></thead><tbody><tr><td>Item</td><td>crsp_12173</td></tr></tbody></table></div></details></td></tr><tr><td>Weight</td><td><div class=\"dni-plaintext\"><pre>0.00016629554026052792</pre></div></td></tr></tbody></table></div></details></td></tr><tr><td>18</td><td><details class=\"dni-treeview\"><summary><span class=\"dni-code-hint\"><code>{ SecurityId = Other \"crsp_14461\"\\n  Weight = 2.077542214e-05 }</code></span></summary><div><table><thead><tr></tr></thead><tbody><tr><td>SecurityId</td><td><details class=\"dni-treeview\"><summary><span class=\"dni-code-hint\"><code>Other \"crsp_14461\"</code></span></summary><div><table><thead><tr></tr></thead><tbody><tr><td>Item</td><td>crsp_14461</td></tr></tbody></table></div></details></td></tr><tr><td>Weight</td><td><div class=\"dni-plaintext\"><pre>2.0775422139279543E-05</pre></div></td></tr></tbody></table></div></details></td></tr><tr><td>19</td><td><details class=\"dni-treeview\"><summary><span class=\"dni-code-hint\"><code>{ SecurityId = Other \"crsp_14868\"\\n  Weight = 0.0001636852229 }</code></span></summary><div><table><thead><tr></tr></thead><tbody><tr><td>SecurityId</td><td><details class=\"dni-treeview\"><summary><span class=\"dni-code-hint\"><code>Other \"crsp_14868\"</code></span></summary><div><table><thead><tr></tr></thead><tbody><tr><td>Item</td><td>crsp_14868</td></tr></tbody></table></div></details></td></tr><tr><td>Weight</td><td><div class=\"dni-plaintext\"><pre>0.00016368522291861155</pre></div></td></tr></tbody></table></div></details></td></tr><tr><td colspan=\"2\"><i>... (more)</i></td></tr></tbody></table></td></tr></tbody></table></div></details></td></tr><tr><td>1</td><td><details class=\"dni-treeview\"><summary><span class=\"dni-code-hint\"><code>{ Name = \"R&D to sales\"\\n  Index = 2\\n  FormationMonth = 01/12/2008 00:00:00\\n  Positions =\\n   [{ SecurityId = Other \"crsp_60206\"\\n      Weight = 0.0009004373106 }; { SecurityId = Other \"crsp_12052\"\\n                                    Weight = 0.008937442865 };\\n    { SecurityId = Other \"crsp_4292...</code></span></summary><div><table><thead><tr></tr></thead><tbody><tr><td>Name</td><td>R&amp;D to sales</td></tr><tr><td>Index</td><td><div class=\"dni-plaintext\"><pre>2</pre></div></td></tr><tr><td>FormationMonth</td><td><span>2008-12-01 00:00:00Z</span></td></tr><tr><td>Positions</td><td><table><thead><tr><th><i>index</i></th><th>value</th></tr></thead><tbody><tr><td>0</td><td><details class=\"dni-treeview\"><summary><span class=\"dni-code-hint\"><code>{ SecurityId = Other \"crsp_60206\"\\n  Weight = 0.0009004373106 }</code></span></summary><div><table><thead><tr></tr></thead><tbody><tr><td>SecurityId</td><td><details class=\"dni-treeview\"><summary><span class=\"dni-code-hint\"><code>Other \"crsp_60206\"</code></span></summary><div><table><thead><tr></tr></thead><tbody><tr><td>Item</td><td>crsp_60206</td></tr></tbody></table></div></details></td></tr><tr><td>Weight</td><td><div class=\"dni-plaintext\"><pre>0.0009004373105997777</pre></div></td></tr></tbody></table></div></details></td></tr><tr><td>1</td><td><details class=\"dni-treeview\"><summary><span class=\"dni-code-hint\"><code>{ SecurityId = Other \"crsp_12052\"\\n  Weight = 0.008937442865 }</code></span></summary><div><table><thead><tr></tr></thead><tbody><tr><td>SecurityId</td><td><details class=\"dni-treeview\"><summary><span class=\"dni-code-hint\"><code>Other \"crsp_12052\"</code></span></summary><div><table><thead><tr></tr></thead><tbody><tr><td>Item</td><td>crsp_12052</td></tr></tbody></table></div></details></td></tr><tr><td>Weight</td><td><div class=\"dni-plaintext\"><pre>0.008937442864659815</pre></div></td></tr></tbody></table></div></details></td></tr><tr><td>2</td><td><details class=\"dni-treeview\"><summary><span class=\"dni-code-hint\"><code>{ SecurityId = Other \"crsp_42922\"\\n  Weight = 3.067289756e-05 }</code></span></summary><div><table><thead><tr></tr></thead><tbody><tr><td>SecurityId</td><td><details class=\"dni-treeview\"><summary><span class=\"dni-code-hint\"><code>Other \"crsp_42922\"</code></span></summary><div><table><thead><tr></tr></thead><tbody><tr><td>Item</td><td>crsp_42922</td></tr></tbody></table></div></details></td></tr><tr><td>Weight</td><td><div class=\"dni-plaintext\"><pre>3.0672897561809436E-05</pre></div></td></tr></tbody></table></div></details></td></tr><tr><td>3</td><td><details class=\"dni-treeview\"><summary><span class=\"dni-code-hint\"><code>{ SecurityId = Other \"crsp_87404\"\\n  Weight = 1.891413787e-05 }</code></span></summary><div><table><thead><tr></tr></thead><tbody><tr><td>SecurityId</td><td><details class=\"dni-treeview\"><summary><span class=\"dni-code-hint\"><code>Other \"crsp_87404\"</code></span></summary><div><table><thead><tr></tr></thead><tbody><tr><td>Item</td><td>crsp_87404</td></tr></tbody></table></div></details></td></tr><tr><td>Weight</td><td><div class=\"dni-plaintext\"><pre>1.891413786615795E-05</pre></div></td></tr></tbody></table></div></details></td></tr><tr><td>4</td><td><details class=\"dni-treeview\"><summary><span class=\"dni-code-hint\"><code>{ SecurityId = Other \"crsp_13901\"\\n  Weight = 0.01235227614 }</code></span></summary><div><table><thead><tr></tr></thead><tbody><tr><td>SecurityId</td><td><details class=\"dni-treeview\"><summary><span class=\"dni-code-hint\"><code>Other \"crsp_13901\"</code></span></summary><div><table><thead><tr></tr></thead><tbody><tr><td>Item</td><td>crsp_13901</td></tr></tbody></table></div></details></td></tr><tr><td>Weight</td><td><div class=\"dni-plaintext\"><pre>0.012352276138164425</pre></div></td></tr></tbody></table></div></details></td></tr><tr><td>5</td><td><details class=\"dni-treeview\"><summary><span class=\"dni-code-hint\"><code>{ SecurityId = Other \"crsp_75740\"\\n  Weight = 9.957107343e-07 }</code></span></summary><div><table><thead><tr></tr></thead><tbody><tr><td>SecurityId</td><td><details class=\"dni-treeview\"><summary><span class=\"dni-code-hint\"><code>Other \"crsp_75740\"</code></span></summary><div><table><thead><tr></tr></thead><tbody><tr><td>Item</td><td>crsp_75740</td></tr></tbody></table></div></details></td></tr><tr><td>Weight</td><td><div class=\"dni-plaintext\"><pre>9.957107342935645E-07</pre></div></td></tr></tbody></table></div></details></td></tr><tr><td>6</td><td><details class=\"dni-treeview\"><summary><span class=\"dni-code-hint\"><code>{ SecurityId = Other \"crsp_21135\"\\n  Weight = 0.0001227633078 }</code></span></summary><div><table><thead><tr></tr></thead><tbody><tr><td>SecurityId</td><td><details class=\"dni-treeview\"><summary><span class=\"dni-code-hint\"><code>Other \"crsp_21135\"</code></span></summary><div><table><thead><tr></tr></thead><tbody><tr><td>Item</td><td>crsp_21135</td></tr></tbody></table></div></details></td></tr><tr><td>Weight</td><td><div class=\"dni-plaintext\"><pre>0.0001227633077666756</pre></div></td></tr></tbody></table></div></details></td></tr><tr><td>7</td><td><details class=\"dni-treeview\"><summary><span class=\"dni-code-hint\"><code>{ SecurityId = Other \"crsp_90696\"\\n  Weight = 5.840258567e-06 }</code></span></summary><div><table><thead><tr></tr></thead><tbody><tr><td>SecurityId</td><td><details class=\"dni-treeview\"><summary><span class=\"dni-code-hint\"><code>Other \"crsp_90696\"</code></span></summary><div><table><thead><tr></tr></thead><tbody><tr><td>Item</td><td>crsp_90696</td></tr></tbody></table></div></details></td></tr><tr><td>Weight</td><td><div class=\"dni-plaintext\"><pre>5.840258567340093E-06</pre></div></td></tr></tbody></table></div></details></td></tr><tr><td>8</td><td><details class=\"dni-treeview\"><summary><span class=\"dni-code-hint\"><code>{ SecurityId = Other \"crsp_24766\"\\n  Weight = 0.005861921441 }</code></span></summary><div><table><thead><tr></tr></thead><tbody><tr><td>SecurityId</td><td><details class=\"dni-treeview\"><summary><span class=\"dni-code-hint\"><code>Other \"crsp_24766\"</code></span></summary><div><table><thead><tr></tr></thead><tbody><tr><td>Item</td><td>crsp_24766</td></tr></tbody></table></div></details></td></tr><tr><td>Weight</td><td><div class=\"dni-plaintext\"><pre>0.00586192144096937</pre></div></td></tr></tbody></table></div></details></td></tr><tr><td>9</td><td><details class=\"dni-treeview\"><summary><span class=\"dni-code-hint\"><code>{ SecurityId = Other \"crsp_76372\"\\n  Weight = 8.276519369e-05 }</code></span></summary><div><table><thead><tr></tr></thead><tbody><tr><td>SecurityId</td><td><details class=\"dni-treeview\"><summary><span class=\"dni-code-hint\"><code>Other \"crsp_76372\"</code></span></summary><div><table><thead><tr></tr></thead><tbody><tr><td>Item</td><td>crsp_76372</td></tr></tbody></table></div></details></td></tr><tr><td>Weight</td><td><div class=\"dni-plaintext\"><pre>8.276519368761259E-05</pre></div></td></tr></tbody></table></div></details></td></tr><tr><td>10</td><td><details class=\"dni-treeview\"><summary><span class=\"dni-code-hint\"><code>{ SecurityId = Other \"crsp_90439\"\\n  Weight = 0.0006320860299 }</code></span></summary><div><table><thead><tr></tr></thead><tbody><tr><td>SecurityId</td><td><details class=\"dni-treeview\"><summary><span class=\"dni-code-hint\"><code>Other \"crsp_90439\"</code></span></summary><div><table><thead><tr></tr></thead><tbody><tr><td>Item</td><td>crsp_90439</td></tr></tbody></table></div></details></td></tr><tr><td>Weight</td><td><div class=\"dni-plaintext\"><pre>0.0006320860299416134</pre></div></td></tr></tbody></table></div></details></td></tr><tr><td>11</td><td><details class=\"dni-treeview\"><summary><span class=\"dni-code-hint\"><code>{ SecurityId = Other \"crsp_20415\"\\n  Weight = 0.00187442471 }</code></span></summary><div><table><thead><tr></tr></thead><tbody><tr><td>SecurityId</td><td><details class=\"dni-treeview\"><summary><span class=\"dni-code-hint\"><code>Other \"crsp_20415\"</code></span></summary><div><table><thead><tr></tr></thead><tbody><tr><td>Item</td><td>crsp_20415</td></tr></tbody></table></div></details></td></tr><tr><td>Weight</td><td><div class=\"dni-plaintext\"><pre>0.0018744247104416675</pre></div></td></tr></tbody></table></div></details></td></tr><tr><td>12</td><td><details class=\"dni-treeview\"><summary><span class=\"dni-code-hint\"><code>{ SecurityId = Other \"crsp_52090\"\\n  Weight = 0.001490500569 }</code></span></summary><div><table><thead><tr></tr></thead><tbody><tr><td>SecurityId</td><td><details class=\"dni-treeview\"><summary><span class=\"dni-code-hint\"><code>Other \"crsp_52090\"</code></span></summary><div><table><thead><tr></tr></thead><tbody><tr><td>Item</td><td>crsp_52090</td></tr></tbody></table></div></details></td></tr><tr><td>Weight</td><td><div class=\"dni-plaintext\"><pre>0.001490500569428453</pre></div></td></tr></tbody></table></div></details></td></tr><tr><td>13</td><td><details class=\"dni-treeview\"><summary><span class=\"dni-code-hint\"><code>{ SecurityId = Other \"crsp_89387\"\\n  Weight = 0.0001162232567 }</code></span></summary><div><table><thead><tr></tr></thead><tbody><tr><td>SecurityId</td><td><details class=\"dni-treeview\"><summary><span class=\"dni-code-hint\"><code>Other \"crsp_89387\"</code></span></summary><div><table><thead><tr></tr></thead><tbody><tr><td>Item</td><td>crsp_89387</td></tr></tbody></table></div></details></td></tr><tr><td>Weight</td><td><div class=\"dni-plaintext\"><pre>0.00011622325674785929</pre></div></td></tr></tbody></table></div></details></td></tr><tr><td>14</td><td><details class=\"dni-treeview\"><summary><span class=\"dni-code-hint\"><code>{ SecurityId = Other \"crsp_90700\"\\n  Weight = 1.213143958e-05 }</code></span></summary><div><table><thead><tr></tr></thead><tbody><tr><td>SecurityId</td><td><details class=\"dni-treeview\"><summary><span class=\"dni-code-hint\"><code>Other \"crsp_90700\"</code></span></summary><div><table><thead><tr></tr></thead><tbody><tr><td>Item</td><td>crsp_90700</td></tr></tbody></table></div></details></td></tr><tr><td>Weight</td><td><div class=\"dni-plaintext\"><pre>1.2131439582066807E-05</pre></div></td></tr></tbody></table></div></details></td></tr><tr><td>15</td><td><details class=\"dni-treeview\"><summary><span class=\"dni-code-hint\"><code>{ SecurityId = Other \"crsp_92774\"\\n  Weight = 0.0001465143922 }</code></span></summary><div><table><thead><tr></tr></thead><tbody><tr><td>SecurityId</td><td><details class=\"dni-treeview\"><summary><span class=\"dni-code-hint\"><code>Other \"crsp_92774\"</code></span></summary><div><table><thead><tr></tr></thead><tbody><tr><td>Item</td><td>crsp_92774</td></tr></tbody></table></div></details></td></tr><tr><td>Weight</td><td><div class=\"dni-plaintext\"><pre>0.0001465143922102114</pre></div></td></tr></tbody></table></div></details></td></tr><tr><td>16</td><td><details class=\"dni-treeview\"><summary><span class=\"dni-code-hint\"><code>{ SecurityId = Other \"crsp_87209\"\\n  Weight = 6.580151261e-06 }</code></span></summary><div><table><thead><tr></tr></thead><tbody><tr><td>SecurityId</td><td><details class=\"dni-treeview\"><summary><span class=\"dni-code-hint\"><code>Other \"crsp_87209\"</code></span></summary><div><table><thead><tr></tr></thead><tbody><tr><td>Item</td><td>crsp_87209</td></tr></tbody></table></div></details></td></tr><tr><td>Weight</td><td><div class=\"dni-plaintext\"><pre>6.580151261220151E-06</pre></div></td></tr></tbody></table></div></details></td></tr><tr><td>17</td><td><details class=\"dni-treeview\"><summary><span class=\"dni-code-hint\"><code>{ SecurityId = Other \"crsp_90656\"\\n  Weight = 5.565748084e-05 }</code></span></summary><div><table><thead><tr></tr></thead><tbody><tr><td>SecurityId</td><td><details class=\"dni-treeview\"><summary><span class=\"dni-code-hint\"><code>Other \"crsp_90656\"</code></span></summary><div><table><thead><tr></tr></thead><tbody><tr><td>Item</td><td>crsp_90656</td></tr></tbody></table></div></details></td></tr><tr><td>Weight</td><td><div class=\"dni-plaintext\"><pre>5.565748084139989E-05</pre></div></td></tr></tbody></table></div></details></td></tr><tr><td>18</td><td><details class=\"dni-treeview\"><summary><span class=\"dni-code-hint\"><code>{ SecurityId = Other \"crsp_60986\"\\n  Weight = 0.001079202536 }</code></span></summary><div><table><thead><tr></tr></thead><tbody><tr><td>SecurityId</td><td><details class=\"dni-treeview\"><summary><span class=\"dni-code-hint\"><code>Other \"crsp_60986\"</code></span></summary><div><table><thead><tr></tr></thead><tbody><tr><td>Item</td><td>crsp_60986</td></tr></tbody></table></div></details></td></tr><tr><td>Weight</td><td><div class=\"dni-plaintext\"><pre>0.0010792025357762543</pre></div></td></tr></tbody></table></div></details></td></tr><tr><td>19</td><td><details class=\"dni-treeview\"><summary><span class=\"dni-code-hint\"><code>{ SecurityId = Other \"crsp_28118\"\\n  Weight = 9.945005082e-05 }</code></span></summary><div><table><thead><tr></tr></thead><tbody><tr><td>SecurityId</td><td><details class=\"dni-treeview\"><summary><span class=\"dni-code-hint\"><code>Other \"crsp_28118\"</code></span></summary><div><table><thead><tr></tr></thead><tbody><tr><td>Item</td><td>crsp_28118</td></tr></tbody></table></div></details></td></tr><tr><td>Weight</td><td><div class=\"dni-plaintext\"><pre>9.945005081940991E-05</pre></div></td></tr></tbody></table></div></details></td></tr><tr><td colspan=\"2\"><i>... (more)</i></td></tr></tbody></table></td></tr></tbody></table></div></details></td></tr><tr><td>2</td><td><details class=\"dni-treeview\"><summary><span class=\"dni-code-hint\"><code>{ Name = \"R&D to sales\"\\n  Index = 3\\n  FormationMonth = 01/12/2008 00:00:00\\n  Positions =\\n   [{ SecurityId = Other \"crsp_91666\"\\n      Weight = 6.189555838e-05 }; { SecurityId = Other \"crsp_39029\"\\n                                    Weight = 2.2658064e-06 };\\n    { SecurityId = Other \"crsp_90319...</code></span></summary><div><table><thead><tr></tr></thead><tbody><tr><td>Name</td><td>R&amp;D to sales</td></tr><tr><td>Index</td><td><div class=\"dni-plaintext\"><pre>3</pre></div></td></tr><tr><td>FormationMonth</td><td><span>2008-12-01 00:00:00Z</span></td></tr><tr><td>Positions</td><td><table><thead><tr><th><i>index</i></th><th>value</th></tr></thead><tbody><tr><td>0</td><td><details class=\"dni-treeview\"><summary><span class=\"dni-code-hint\"><code>{ SecurityId = Other \"crsp_91666\"\\n  Weight = 6.189555838e-05 }</code></span></summary><div><table><thead><tr></tr></thead><tbody><tr><td>SecurityId</td><td><details class=\"dni-treeview\"><summary><span class=\"dni-code-hint\"><code>Other \"crsp_91666\"</code></span></summary><div><table><thead><tr></tr></thead><tbody><tr><td>Item</td><td>crsp_91666</td></tr></tbody></table></div></details></td></tr><tr><td>Weight</td><td><div class=\"dni-plaintext\"><pre>6.189555838450595E-05</pre></div></td></tr></tbody></table></div></details></td></tr><tr><td>1</td><td><details class=\"dni-treeview\"><summary><span class=\"dni-code-hint\"><code>{ SecurityId = Other \"crsp_39029\"\\n  Weight = 2.2658064e-06 }</code></span></summary><div><table><thead><tr></tr></thead><tbody><tr><td>SecurityId</td><td><details class=\"dni-treeview\"><summary><span class=\"dni-code-hint\"><code>Other \"crsp_39029\"</code></span></summary><div><table><thead><tr></tr></thead><tbody><tr><td>Item</td><td>crsp_39029</td></tr></tbody></table></div></details></td></tr><tr><td>Weight</td><td><div class=\"dni-plaintext\"><pre>2.2658064003404754E-06</pre></div></td></tr></tbody></table></div></details></td></tr><tr><td>2</td><td><details class=\"dni-treeview\"><summary><span class=\"dni-code-hint\"><code>{ SecurityId = Other \"crsp_90319\"\\n  Weight = 0.04818182177 }</code></span></summary><div><table><thead><tr></tr></thead><tbody><tr><td>SecurityId</td><td><details class=\"dni-treeview\"><summary><span class=\"dni-code-hint\"><code>Other \"crsp_90319\"</code></span></summary><div><table><thead><tr></tr></thead><tbody><tr><td>Item</td><td>crsp_90319</td></tr></tbody></table></div></details></td></tr><tr><td>Weight</td><td><div class=\"dni-plaintext\"><pre>0.04818182176697338</pre></div></td></tr></tbody></table></div></details></td></tr><tr><td>3</td><td><details class=\"dni-treeview\"><summary><span class=\"dni-code-hint\"><code>{ SecurityId = Other \"crsp_76999\"\\n  Weight = 0.0001831269961 }</code></span></summary><div><table><thead><tr></tr></thead><tbody><tr><td>SecurityId</td><td><details class=\"dni-treeview\"><summary><span class=\"dni-code-hint\"><code>Other \"crsp_76999\"</code></span></summary><div><table><thead><tr></tr></thead><tbody><tr><td>Item</td><td>crsp_76999</td></tr></tbody></table></div></details></td></tr><tr><td>Weight</td><td><div class=\"dni-plaintext\"><pre>0.00018312699609235146</pre></div></td></tr></tbody></table></div></details></td></tr><tr><td>4</td><td><details class=\"dni-treeview\"><summary><span class=\"dni-code-hint\"><code>{ SecurityId = Other \"crsp_61138\"\\n  Weight = 0.0003017905782 }</code></span></summary><div><table><thead><tr></tr></thead><tbody><tr><td>SecurityId</td><td><details class=\"dni-treeview\"><summary><span class=\"dni-code-hint\"><code>Other \"crsp_61138\"</code></span></summary><div><table><thead><tr></tr></thead><tbody><tr><td>Item</td><td>crsp_61138</td></tr></tbody></table></div></details></td></tr><tr><td>Weight</td><td><div class=\"dni-plaintext\"><pre>0.00030179057824091947</pre></div></td></tr></tbody></table></div></details></td></tr><tr><td>5</td><td><details class=\"dni-treeview\"><summary><span class=\"dni-code-hint\"><code>{ SecurityId = Other \"crsp_80763\"\\n  Weight = 2.247618657e-06 }</code></span></summary><div><table><thead><tr></tr></thead><tbody><tr><td>SecurityId</td><td><details class=\"dni-treeview\"><summary><span class=\"dni-code-hint\"><code>Other \"crsp_80763\"</code></span></summary><div><table><thead><tr></tr></thead><tbody><tr><td>Item</td><td>crsp_80763</td></tr></tbody></table></div></details></td></tr><tr><td>Weight</td><td><div class=\"dni-plaintext\"><pre>2.2476186568773218E-06</pre></div></td></tr></tbody></table></div></details></td></tr><tr><td>6</td><td><details class=\"dni-treeview\"><summary><span class=\"dni-code-hint\"><code>{ SecurityId = Other \"crsp_76391\"\\n  Weight = 0.0005142934887 }</code></span></summary><div><table><thead><tr></tr></thead><tbody><tr><td>SecurityId</td><td><details class=\"dni-treeview\"><summary><span class=\"dni-code-hint\"><code>Other \"crsp_76391\"</code></span></summary><div><table><thead><tr></tr></thead><tbody><tr><td>Item</td><td>crsp_76391</td></tr></tbody></table></div></details></td></tr><tr><td>Weight</td><td><div class=\"dni-plaintext\"><pre>0.0005142934886758878</pre></div></td></tr></tbody></table></div></details></td></tr><tr><td>7</td><td><details class=\"dni-treeview\"><summary><span class=\"dni-code-hint\"><code>{ SecurityId = Other \"crsp_88152\"\\n  Weight = 0.0003972121086 }</code></span></summary><div><table><thead><tr></tr></thead><tbody><tr><td>SecurityId</td><td><details class=\"dni-treeview\"><summary><span class=\"dni-code-hint\"><code>Other \"crsp_88152\"</code></span></summary><div><table><thead><tr></tr></thead><tbody><tr><td>Item</td><td>crsp_88152</td></tr></tbody></table></div></details></td></tr><tr><td>Weight</td><td><div class=\"dni-plaintext\"><pre>0.0003972121086335481</pre></div></td></tr></tbody></table></div></details></td></tr><tr><td>8</td><td><details class=\"dni-treeview\"><summary><span class=\"dni-code-hint\"><code>{ SecurityId = Other \"crsp_14702\"\\n  Weight = 0.008784322137 }</code></span></summary><div><table><thead><tr></tr></thead><tbody><tr><td>SecurityId</td><td><details class=\"dni-treeview\"><summary><span class=\"dni-code-hint\"><code>Other \"crsp_14702\"</code></span></summary><div><table><thead><tr></tr></thead><tbody><tr><td>Item</td><td>crsp_14702</td></tr></tbody></table></div></details></td></tr><tr><td>Weight</td><td><div class=\"dni-plaintext\"><pre>0.008784322137148205</pre></div></td></tr></tbody></table></div></details></td></tr><tr><td>9</td><td><details class=\"dni-treeview\"><summary><span class=\"dni-code-hint\"><code>{ SecurityId = Other \"crsp_76076\"\\n  Weight = 0.0622592555 }</code></span></summary><div><table><thead><tr></tr></thead><tbody><tr><td>SecurityId</td><td><details class=\"dni-treeview\"><summary><span class=\"dni-code-hint\"><code>Other \"crsp_76076\"</code></span></summary><div><table><thead><tr></tr></thead><tbody><tr><td>Item</td><td>crsp_76076</td></tr></tbody></table></div></details></td></tr><tr><td>Weight</td><td><div class=\"dni-plaintext\"><pre>0.062259255502872125</pre></div></td></tr></tbody></table></div></details></td></tr><tr><td>10</td><td><details class=\"dni-treeview\"><summary><span class=\"dni-code-hint\"><code>{ SecurityId = Other \"crsp_90028\"\\n  Weight = 5.743026518e-05 }</code></span></summary><div><table><thead><tr></tr></thead><tbody><tr><td>SecurityId</td><td><details class=\"dni-treeview\"><summary><span class=\"dni-code-hint\"><code>Other \"crsp_90028\"</code></span></summary><div><table><thead><tr></tr></thead><tbody><tr><td>Item</td><td>crsp_90028</td></tr></tbody></table></div></details></td></tr><tr><td>Weight</td><td><div class=\"dni-plaintext\"><pre>5.7430265176374305E-05</pre></div></td></tr></tbody></table></div></details></td></tr><tr><td>11</td><td><details class=\"dni-treeview\"><summary><span class=\"dni-code-hint\"><code>{ SecurityId = Other \"crsp_48486\"\\n  Weight = 0.001736481948 }</code></span></summary><div><table><thead><tr></tr></thead><tbody><tr><td>SecurityId</td><td><details class=\"dni-treeview\"><summary><span class=\"dni-code-hint\"><code>Other \"crsp_48486\"</code></span></summary><div><table><thead><tr></tr></thead><tbody><tr><td>Item</td><td>crsp_48486</td></tr></tbody></table></div></details></td></tr><tr><td>Weight</td><td><div class=\"dni-plaintext\"><pre>0.0017364819477846474</pre></div></td></tr></tbody></table></div></details></td></tr><tr><td>12</td><td><details class=\"dni-treeview\"><summary><span class=\"dni-code-hint\"><code>{ SecurityId = Other \"crsp_92497\"\\n  Weight = 0.0003349491838 }</code></span></summary><div><table><thead><tr></tr></thead><tbody><tr><td>SecurityId</td><td><details class=\"dni-treeview\"><summary><span class=\"dni-code-hint\"><code>Other \"crsp_92497\"</code></span></summary><div><table><thead><tr></tr></thead><tbody><tr><td>Item</td><td>crsp_92497</td></tr></tbody></table></div></details></td></tr><tr><td>Weight</td><td><div class=\"dni-plaintext\"><pre>0.00033494918379432456</pre></div></td></tr></tbody></table></div></details></td></tr><tr><td>13</td><td><details class=\"dni-treeview\"><summary><span class=\"dni-code-hint\"><code>{ SecurityId = Other \"crsp_86717\"\\n  Weight = 0.0001114296714 }</code></span></summary><div><table><thead><tr></tr></thead><tbody><tr><td>SecurityId</td><td><details class=\"dni-treeview\"><summary><span class=\"dni-code-hint\"><code>Other \"crsp_86717\"</code></span></summary><div><table><thead><tr></tr></thead><tbody><tr><td>Item</td><td>crsp_86717</td></tr></tbody></table></div></details></td></tr><tr><td>Weight</td><td><div class=\"dni-plaintext\"><pre>0.0001114296714136741</pre></div></td></tr></tbody></table></div></details></td></tr><tr><td>14</td><td><details class=\"dni-treeview\"><summary><span class=\"dni-code-hint\"><code>{ SecurityId = Other \"crsp_92465\"\\n  Weight = 2.550382434e-05 }</code></span></summary><div><table><thead><tr></tr></thead><tbody><tr><td>SecurityId</td><td><details class=\"dni-treeview\"><summary><span class=\"dni-code-hint\"><code>Other \"crsp_92465\"</code></span></summary><div><table><thead><tr></tr></thead><tbody><tr><td>Item</td><td>crsp_92465</td></tr></tbody></table></div></details></td></tr><tr><td>Weight</td><td><div class=\"dni-plaintext\"><pre>2.5503824339599043E-05</pre></div></td></tr></tbody></table></div></details></td></tr><tr><td>15</td><td><details class=\"dni-treeview\"><summary><span class=\"dni-code-hint\"><code>{ SecurityId = Other \"crsp_91463\"\\n  Weight = 0.0003625983442 }</code></span></summary><div><table><thead><tr></tr></thead><tbody><tr><td>SecurityId</td><td><details class=\"dni-treeview\"><summary><span class=\"dni-code-hint\"><code>Other \"crsp_91463\"</code></span></summary><div><table><thead><tr></tr></thead><tbody><tr><td>Item</td><td>crsp_91463</td></tr></tbody></table></div></details></td></tr><tr><td>Weight</td><td><div class=\"dni-plaintext\"><pre>0.0003625983441794946</pre></div></td></tr></tbody></table></div></details></td></tr><tr><td>16</td><td><details class=\"dni-treeview\"><summary><span class=\"dni-code-hint\"><code>{ SecurityId = Other \"crsp_86724\"\\n  Weight = 1.612586532e-05 }</code></span></summary><div><table><thead><tr></tr></thead><tbody><tr><td>SecurityId</td><td><details class=\"dni-treeview\"><summary><span class=\"dni-code-hint\"><code>Other \"crsp_86724\"</code></span></summary><div><table><thead><tr></tr></thead><tbody><tr><td>Item</td><td>crsp_86724</td></tr></tbody></table></div></details></td></tr><tr><td>Weight</td><td><div class=\"dni-plaintext\"><pre>1.6125865318611763E-05</pre></div></td></tr></tbody></table></div></details></td></tr><tr><td>17</td><td><details class=\"dni-treeview\"><summary><span class=\"dni-code-hint\"><code>{ SecurityId = Other \"crsp_11481\"\\n  Weight = 0.0001550861441 }</code></span></summary><div><table><thead><tr></tr></thead><tbody><tr><td>SecurityId</td><td><details class=\"dni-treeview\"><summary><span class=\"dni-code-hint\"><code>Other \"crsp_11481\"</code></span></summary><div><table><thead><tr></tr></thead><tbody><tr><td>Item</td><td>crsp_11481</td></tr></tbody></table></div></details></td></tr><tr><td>Weight</td><td><div class=\"dni-plaintext\"><pre>0.0001550861441417819</pre></div></td></tr></tbody></table></div></details></td></tr><tr><td>18</td><td><details class=\"dni-treeview\"><summary><span class=\"dni-code-hint\"><code>{ SecurityId = Other \"crsp_91825\"\\n  Weight = 7.375769436e-05 }</code></span></summary><div><table><thead><tr></tr></thead><tbody><tr><td>SecurityId</td><td><details class=\"dni-treeview\"><summary><span class=\"dni-code-hint\"><code>Other \"crsp_91825\"</code></span></summary><div><table><thead><tr></tr></thead><tbody><tr><td>Item</td><td>crsp_91825</td></tr></tbody></table></div></details></td></tr><tr><td>Weight</td><td><div class=\"dni-plaintext\"><pre>7.375769436081562E-05</pre></div></td></tr></tbody></table></div></details></td></tr><tr><td>19</td><td><details class=\"dni-treeview\"><summary><span class=\"dni-code-hint\"><code>{ SecurityId = Other \"crsp_81472\"\\n  Weight = 0.001612814314 }</code></span></summary><div><table><thead><tr></tr></thead><tbody><tr><td>SecurityId</td><td><details class=\"dni-treeview\"><summary><span class=\"dni-code-hint\"><code>Other \"crsp_81472\"</code></span></summary><div><table><thead><tr></tr></thead><tbody><tr><td>Item</td><td>crsp_81472</td></tr></tbody></table></div></details></td></tr><tr><td>Weight</td><td><div class=\"dni-plaintext\"><pre>0.0016128143141925615</pre></div></td></tr></tbody></table></div></details></td></tr><tr><td colspan=\"2\"><i>... (more)</i></td></tr></tbody></table></td></tr></tbody></table></div></details></td></tr><tr><td>3</td><td><details class=\"dni-treeview\"><summary><span class=\"dni-code-hint\"><code>{ Name = \"R&D to sales\"\\n  Index = 1\\n  FormationMonth = 01/01/2000 00:00:00\\n  Positions =\\n   [{ SecurityId = Other \"comp_001043_01\"\\n      Weight = 1.369351833e-06 }; { SecurityId = Other \"comp_009664_01\"\\n                                    Weight = 5.778972456e-05 };\\n    { SecurityId = Other \"...</code></span></summary><div><table><thead><tr></tr></thead><tbody><tr><td>Name</td><td>R&amp;D to sales</td></tr><tr><td>Index</td><td><div class=\"dni-plaintext\"><pre>1</pre></div></td></tr><tr><td>FormationMonth</td><td><span>2000-01-01 00:00:00Z</span></td></tr><tr><td>Positions</td><td><table><thead><tr><th><i>index</i></th><th>value</th></tr></thead><tbody><tr><td>0</td><td><details class=\"dni-treeview\"><summary><span class=\"dni-code-hint\"><code>{ SecurityId = Other \"comp_001043_01\"\\n  Weight = 1.369351833e-06 }</code></span></summary><div><table><thead><tr></tr></thead><tbody><tr><td>SecurityId</td><td><details class=\"dni-treeview\"><summary><span class=\"dni-code-hint\"><code>Other \"comp_001043_01\"</code></span></summary><div><table><thead><tr></tr></thead><tbody><tr><td>Item</td><td>comp_001043_01</td></tr></tbody></table></div></details></td></tr><tr><td>Weight</td><td><div class=\"dni-plaintext\"><pre>1.3693518333313528E-06</pre></div></td></tr></tbody></table></div></details></td></tr><tr><td>1</td><td><details class=\"dni-treeview\"><summary><span class=\"dni-code-hint\"><code>{ SecurityId = Other \"comp_009664_01\"\\n  Weight = 5.778972456e-05 }</code></span></summary><div><table><thead><tr></tr></thead><tbody><tr><td>SecurityId</td><td><details class=\"dni-treeview\"><summary><span class=\"dni-code-hint\"><code>Other \"comp_009664_01\"</code></span></summary><div><table><thead><tr></tr></thead><tbody><tr><td>Item</td><td>comp_009664_01</td></tr></tbody></table></div></details></td></tr><tr><td>Weight</td><td><div class=\"dni-plaintext\"><pre>5.778972456171417E-05</pre></div></td></tr></tbody></table></div></details></td></tr><tr><td>2</td><td><details class=\"dni-treeview\"><summary><span class=\"dni-code-hint\"><code>{ SecurityId = Other \"comp_009728_02\"\\n  Weight = 1.047467606e-06 }</code></span></summary><div><table><thead><tr></tr></thead><tbody><tr><td>SecurityId</td><td><details class=\"dni-treeview\"><summary><span class=\"dni-code-hint\"><code>Other \"comp_009728_02\"</code></span></summary><div><table><thead><tr></tr></thead><tbody><tr><td>Item</td><td>comp_009728_02</td></tr></tbody></table></div></details></td></tr><tr><td>Weight</td><td><div class=\"dni-plaintext\"><pre>1.047467606385423E-06</pre></div></td></tr></tbody></table></div></details></td></tr><tr><td>3</td><td><details class=\"dni-treeview\"><summary><span class=\"dni-code-hint\"><code>{ SecurityId = Other \"comp_014490_01\"\\n  Weight = 1.038090854e-05 }</code></span></summary><div><table><thead><tr></tr></thead><tbody><tr><td>SecurityId</td><td><details class=\"dni-treeview\"><summary><span class=\"dni-code-hint\"><code>Other \"comp_014490_01\"</code></span></summary><div><table><thead><tr></tr></thead><tbody><tr><td>Item</td><td>comp_014490_01</td></tr></tbody></table></div></details></td></tr><tr><td>Weight</td><td><div class=\"dni-plaintext\"><pre>1.0380908543118692E-05</pre></div></td></tr></tbody></table></div></details></td></tr><tr><td>4</td><td><details class=\"dni-treeview\"><summary><span class=\"dni-code-hint\"><code>{ SecurityId = Other \"crsp_10028\"\\n  Weight = 7.659331006e-06 }</code></span></summary><div><table><thead><tr></tr></thead><tbody><tr><td>SecurityId</td><td><details class=\"dni-treeview\"><summary><span class=\"dni-code-hint\"><code>Other \"crsp_10028\"</code></span></summary><div><table><thead><tr></tr></thead><tbody><tr><td>Item</td><td>crsp_10028</td></tr></tbody></table></div></details></td></tr><tr><td>Weight</td><td><div class=\"dni-plaintext\"><pre>7.659331005958022E-06</pre></div></td></tr></tbody></table></div></details></td></tr><tr><td>5</td><td><details class=\"dni-treeview\"><summary><span class=\"dni-code-hint\"><code>{ SecurityId = Other \"crsp_10035\"\\n  Weight = 5.669924354e-05 }</code></span></summary><div><table><thead><tr></tr></thead><tbody><tr><td>SecurityId</td><td><details class=\"dni-treeview\"><summary><span class=\"dni-code-hint\"><code>Other \"crsp_10035\"</code></span></summary><div><table><thead><tr></tr></thead><tbody><tr><td>Item</td><td>crsp_10035</td></tr></tbody></table></div></details></td></tr><tr><td>Weight</td><td><div class=\"dni-plaintext\"><pre>5.669924353713709E-05</pre></div></td></tr></tbody></table></div></details></td></tr><tr><td>6</td><td><details class=\"dni-treeview\"><summary><span class=\"dni-code-hint\"><code>{ SecurityId = Other \"crsp_10051\"\\n  Weight = 3.303292043e-05 }</code></span></summary><div><table><thead><tr></tr></thead><tbody><tr><td>SecurityId</td><td><details class=\"dni-treeview\"><summary><span class=\"dni-code-hint\"><code>Other \"crsp_10051\"</code></span></summary><div><table><thead><tr></tr></thead><tbody><tr><td>Item</td><td>crsp_10051</td></tr></tbody></table></div></details></td></tr><tr><td>Weight</td><td><div class=\"dni-plaintext\"><pre>3.3032920433379184E-05</pre></div></td></tr></tbody></table></div></details></td></tr><tr><td>7</td><td><details class=\"dni-treeview\"><summary><span class=\"dni-code-hint\"><code>{ SecurityId = Other \"crsp_10080\"\\n  Weight = 1.746692886e-06 }</code></span></summary><div><table><thead><tr></tr></thead><tbody><tr><td>SecurityId</td><td><details class=\"dni-treeview\"><summary><span class=\"dni-code-hint\"><code>Other \"crsp_10080\"</code></span></summary><div><table><thead><tr></tr></thead><tbody><tr><td>Item</td><td>crsp_10080</td></tr></tbody></table></div></details></td></tr><tr><td>Weight</td><td><div class=\"dni-plaintext\"><pre>1.7466928862802453E-06</pre></div></td></tr></tbody></table></div></details></td></tr><tr><td>8</td><td><details class=\"dni-treeview\"><summary><span class=\"dni-code-hint\"><code>{ SecurityId = Other \"crsp_10170\"\\n  Weight = 9.849428478e-07 }</code></span></summary><div><table><thead><tr></tr></thead><tbody><tr><td>SecurityId</td><td><details class=\"dni-treeview\"><summary><span class=\"dni-code-hint\"><code>Other \"crsp_10170\"</code></span></summary><div><table><thead><tr></tr></thead><tbody><tr><td>Item</td><td>crsp_10170</td></tr></tbody></table></div></details></td></tr><tr><td>Weight</td><td><div class=\"dni-plaintext\"><pre>9.849428478157569E-07</pre></div></td></tr></tbody></table></div></details></td></tr><tr><td>9</td><td><details class=\"dni-treeview\"><summary><span class=\"dni-code-hint\"><code>{ SecurityId = Other \"crsp_10182\"\\n  Weight = 0.00044765275 }</code></span></summary><div><table><thead><tr></tr></thead><tbody><tr><td>SecurityId</td><td><details class=\"dni-treeview\"><summary><span class=\"dni-code-hint\"><code>Other \"crsp_10182\"</code></span></summary><div><table><thead><tr></tr></thead><tbody><tr><td>Item</td><td>crsp_10182</td></tr></tbody></table></div></details></td></tr><tr><td>Weight</td><td><div class=\"dni-plaintext\"><pre>0.00044765274996010854</pre></div></td></tr></tbody></table></div></details></td></tr><tr><td>10</td><td><details class=\"dni-treeview\"><summary><span class=\"dni-code-hint\"><code>{ SecurityId = Other \"crsp_10325\"\\n  Weight = 2.874725308e-05 }</code></span></summary><div><table><thead><tr></tr></thead><tbody><tr><td>SecurityId</td><td><details class=\"dni-treeview\"><summary><span class=\"dni-code-hint\"><code>Other \"crsp_10325\"</code></span></summary><div><table><thead><tr></tr></thead><tbody><tr><td>Item</td><td>crsp_10325</td></tr></tbody></table></div></details></td></tr><tr><td>Weight</td><td><div class=\"dni-plaintext\"><pre>2.8747253076913007E-05</pre></div></td></tr></tbody></table></div></details></td></tr><tr><td>11</td><td><details class=\"dni-treeview\"><summary><span class=\"dni-code-hint\"><code>{ SecurityId = Other \"crsp_10423\"\\n  Weight = 1.339945387e-05 }</code></span></summary><div><table><thead><tr></tr></thead><tbody><tr><td>SecurityId</td><td><details class=\"dni-treeview\"><summary><span class=\"dni-code-hint\"><code>Other \"crsp_10423\"</code></span></summary><div><table><thead><tr></tr></thead><tbody><tr><td>Item</td><td>crsp_10423</td></tr></tbody></table></div></details></td></tr><tr><td>Weight</td><td><div class=\"dni-plaintext\"><pre>1.3399453873599533E-05</pre></div></td></tr></tbody></table></div></details></td></tr><tr><td>12</td><td><details class=\"dni-treeview\"><summary><span class=\"dni-code-hint\"><code>{ SecurityId = Other \"crsp_10514\"\\n  Weight = 0.000185898743 }</code></span></summary><div><table><thead><tr></tr></thead><tbody><tr><td>SecurityId</td><td><details class=\"dni-treeview\"><summary><span class=\"dni-code-hint\"><code>Other \"crsp_10514\"</code></span></summary><div><table><thead><tr></tr></thead><tbody><tr><td>Item</td><td>crsp_10514</td></tr></tbody></table></div></details></td></tr><tr><td>Weight</td><td><div class=\"dni-plaintext\"><pre>0.00018589874296012437</pre></div></td></tr></tbody></table></div></details></td></tr><tr><td>13</td><td><details class=\"dni-treeview\"><summary><span class=\"dni-code-hint\"><code>{ SecurityId = Other \"crsp_10571\"\\n  Weight = 3.530432317e-06 }</code></span></summary><div><table><thead><tr></tr></thead><tbody><tr><td>SecurityId</td><td><details class=\"dni-treeview\"><summary><span class=\"dni-code-hint\"><code>Other \"crsp_10571\"</code></span></summary><div><table><thead><tr></tr></thead><tbody><tr><td>Item</td><td>crsp_10571</td></tr></tbody></table></div></details></td></tr><tr><td>Weight</td><td><div class=\"dni-plaintext\"><pre>3.5304323170682784E-06</pre></div></td></tr></tbody></table></div></details></td></tr><tr><td>14</td><td><details class=\"dni-treeview\"><summary><span class=\"dni-code-hint\"><code>{ SecurityId = Other \"crsp_10693\"\\n  Weight = 0.0008171522443 }</code></span></summary><div><table><thead><tr></tr></thead><tbody><tr><td>SecurityId</td><td><details class=\"dni-treeview\"><summary><span class=\"dni-code-hint\"><code>Other \"crsp_10693\"</code></span></summary><div><table><thead><tr></tr></thead><tbody><tr><td>Item</td><td>crsp_10693</td></tr></tbody></table></div></details></td></tr><tr><td>Weight</td><td><div class=\"dni-plaintext\"><pre>0.0008171522442538742</pre></div></td></tr></tbody></table></div></details></td></tr><tr><td>15</td><td><details class=\"dni-treeview\"><summary><span class=\"dni-code-hint\"><code>{ SecurityId = Other \"crsp_10772\"\\n  Weight = 5.144397123e-06 }</code></span></summary><div><table><thead><tr></tr></thead><tbody><tr><td>SecurityId</td><td><details class=\"dni-treeview\"><summary><span class=\"dni-code-hint\"><code>Other \"crsp_10772\"</code></span></summary><div><table><thead><tr></tr></thead><tbody><tr><td>Item</td><td>crsp_10772</td></tr></tbody></table></div></details></td></tr><tr><td>Weight</td><td><div class=\"dni-plaintext\"><pre>5.144397122733664E-06</pre></div></td></tr></tbody></table></div></details></td></tr><tr><td>16</td><td><details class=\"dni-treeview\"><summary><span class=\"dni-code-hint\"><code>{ SecurityId = Other \"crsp_10857\"\\n  Weight = 9.762040945e-05 }</code></span></summary><div><table><thead><tr></tr></thead><tbody><tr><td>SecurityId</td><td><details class=\"dni-treeview\"><summary><span class=\"dni-code-hint\"><code>Other \"crsp_10857\"</code></span></summary><div><table><thead><tr></tr></thead><tbody><tr><td>Item</td><td>crsp_10857</td></tr></tbody></table></div></details></td></tr><tr><td>Weight</td><td><div class=\"dni-plaintext\"><pre>9.762040944552243E-05</pre></div></td></tr></tbody></table></div></details></td></tr><tr><td>17</td><td><details class=\"dni-treeview\"><summary><span class=\"dni-code-hint\"><code>{ SecurityId = Other \"crsp_10908\"\\n  Weight = 3.012237465e-06 }</code></span></summary><div><table><thead><tr></tr></thead><tbody><tr><td>SecurityId</td><td><details class=\"dni-treeview\"><summary><span class=\"dni-code-hint\"><code>Other \"crsp_10908\"</code></span></summary><div><table><thead><tr></tr></thead><tbody><tr><td>Item</td><td>crsp_10908</td></tr></tbody></table></div></details></td></tr><tr><td>Weight</td><td><div class=\"dni-plaintext\"><pre>3.012237465111514E-06</pre></div></td></tr></tbody></table></div></details></td></tr><tr><td>18</td><td><details class=\"dni-treeview\"><summary><span class=\"dni-code-hint\"><code>{ SecurityId = Other \"crsp_10972\"\\n  Weight = 1.018840075e-05 }</code></span></summary><div><table><thead><tr></tr></thead><tbody><tr><td>SecurityId</td><td><details class=\"dni-treeview\"><summary><span class=\"dni-code-hint\"><code>Other \"crsp_10972\"</code></span></summary><div><table><thead><tr></tr></thead><tbody><tr><td>Item</td><td>crsp_10972</td></tr></tbody></table></div></details></td></tr><tr><td>Weight</td><td><div class=\"dni-plaintext\"><pre>1.0188400754315788E-05</pre></div></td></tr></tbody></table></div></details></td></tr><tr><td>19</td><td><details class=\"dni-treeview\"><summary><span class=\"dni-code-hint\"><code>{ SecurityId = Other \"crsp_10999\"\\n  Weight = 0.0001305447385 }</code></span></summary><div><table><thead><tr></tr></thead><tbody><tr><td>SecurityId</td><td><details class=\"dni-treeview\"><summary><span class=\"dni-code-hint\"><code>Other \"crsp_10999\"</code></span></summary><div><table><thead><tr></tr></thead><tbody><tr><td>Item</td><td>crsp_10999</td></tr></tbody></table></div></details></td></tr><tr><td>Weight</td><td><div class=\"dni-plaintext\"><pre>0.00013054473854759617</pre></div></td></tr></tbody></table></div></details></td></tr><tr><td colspan=\"2\"><i>... (more)</i></td></tr></tbody></table></td></tr></tbody></table></div></details></td></tr></tbody></table><style>\r\n",
       ".dni-code-hint {\r\n",
       "    font-style: italic;\r\n",
       "    overflow: hidden;\r\n",
       "    white-space: nowrap;\r\n",
       "}\r\n",
       ".dni-treeview {\r\n",
       "    white-space: nowrap;\r\n",
       "}\r\n",
       ".dni-treeview td {\r\n",
       "    vertical-align: top;\r\n",
       "    text-align: start;\r\n",
       "}\r\n",
       "details.dni-treeview {\r\n",
       "    padding-left: 1em;\r\n",
       "}\r\n",
       "table td {\r\n",
       "    text-align: start;\r\n",
       "}\r\n",
       "table tr { \r\n",
       "    vertical-align: top; \r\n",
       "    margin: 0em 0px;\r\n",
       "}\r\n",
       "table tr td pre \r\n",
       "{ \r\n",
       "    vertical-align: top !important; \r\n",
       "    margin: 0em 0px !important;\r\n",
       "} \r\n",
       "table th {\r\n",
       "    text-align: start;\r\n",
       "}\r\n",
       "</style>"
      ]
     },
     "metadata": {},
     "output_type": "display_data"
    }
   ],
   "source": [
    "let vw = backtest.strategyValueWeighted(myMktCaps)\n",
    "\n",
    "vw.Portfolios[..3]\n"
   ]
  },
  {
   "cell_type": "code",
   "execution_count": 15,
   "metadata": {
    "dotnet_interactive": {
     "language": "fsharp"
    },
    "polyglot_notebook": {
     "kernelName": "fsharp"
    }
   },
   "outputs": [
    {
     "data": {
      "text/html": [
       "<table><thead><tr><th><i>index</i></th><th>value</th></tr></thead><tbody><tr><td>0</td><td><details class=\"dni-treeview\"><summary><span class=\"dni-code-hint\"><code>{ Name = \"R&D to sales\"\\n  Index = 1\\n  Month = 01/01/2009 00:00:00\\n  Return = -0.07654766749 }</code></span></summary><div><table><thead><tr></tr></thead><tbody><tr><td>Name</td><td>R&amp;D to sales</td></tr><tr><td>Index</td><td><div class=\"dni-plaintext\"><pre>1</pre></div></td></tr><tr><td>Month</td><td><span>2009-01-01 00:00:00Z</span></td></tr><tr><td>Return</td><td><div class=\"dni-plaintext\"><pre>-0.07654766748807555</pre></div></td></tr></tbody></table></div></details></td></tr><tr><td>1</td><td><details class=\"dni-treeview\"><summary><span class=\"dni-code-hint\"><code>{ Name = \"R&D to sales\"\\n  Index = 2\\n  Month = 01/01/2009 00:00:00\\n  Return = -0.04893451719 }</code></span></summary><div><table><thead><tr></tr></thead><tbody><tr><td>Name</td><td>R&amp;D to sales</td></tr><tr><td>Index</td><td><div class=\"dni-plaintext\"><pre>2</pre></div></td></tr><tr><td>Month</td><td><span>2009-01-01 00:00:00Z</span></td></tr><tr><td>Return</td><td><div class=\"dni-plaintext\"><pre>-0.048934517187427515</pre></div></td></tr></tbody></table></div></details></td></tr><tr><td>2</td><td><details class=\"dni-treeview\"><summary><span class=\"dni-code-hint\"><code>{ Name = \"R&D to sales\"\\n  Index = 3\\n  Month = 01/01/2009 00:00:00\\n  Return = -0.0461160921 }</code></span></summary><div><table><thead><tr></tr></thead><tbody><tr><td>Name</td><td>R&amp;D to sales</td></tr><tr><td>Index</td><td><div class=\"dni-plaintext\"><pre>3</pre></div></td></tr><tr><td>Month</td><td><span>2009-01-01 00:00:00Z</span></td></tr><tr><td>Return</td><td><div class=\"dni-plaintext\"><pre>-0.04611609210452799</pre></div></td></tr></tbody></table></div></details></td></tr><tr><td>3</td><td><details class=\"dni-treeview\"><summary><span class=\"dni-code-hint\"><code>{ Name = \"R&D to sales\"\\n  Index = 1\\n  Month = 01/02/2000 00:00:00\\n  Return = -0.04733696242 }</code></span></summary><div><table><thead><tr></tr></thead><tbody><tr><td>Name</td><td>R&amp;D to sales</td></tr><tr><td>Index</td><td><div class=\"dni-plaintext\"><pre>1</pre></div></td></tr><tr><td>Month</td><td><span>2000-02-01 00:00:00Z</span></td></tr><tr><td>Return</td><td><div class=\"dni-plaintext\"><pre>-0.047336962422449766</pre></div></td></tr></tbody></table></div></details></td></tr></tbody></table><style>\r\n",
       ".dni-code-hint {\r\n",
       "    font-style: italic;\r\n",
       "    overflow: hidden;\r\n",
       "    white-space: nowrap;\r\n",
       "}\r\n",
       ".dni-treeview {\r\n",
       "    white-space: nowrap;\r\n",
       "}\r\n",
       ".dni-treeview td {\r\n",
       "    vertical-align: top;\r\n",
       "    text-align: start;\r\n",
       "}\r\n",
       "details.dni-treeview {\r\n",
       "    padding-left: 1em;\r\n",
       "}\r\n",
       "table td {\r\n",
       "    text-align: start;\r\n",
       "}\r\n",
       "table tr { \r\n",
       "    vertical-align: top; \r\n",
       "    margin: 0em 0px;\r\n",
       "}\r\n",
       "table tr td pre \r\n",
       "{ \r\n",
       "    vertical-align: top !important; \r\n",
       "    margin: 0em 0px !important;\r\n",
       "} \r\n",
       "table th {\r\n",
       "    text-align: start;\r\n",
       "}\r\n",
       "</style>"
      ]
     },
     "metadata": {},
     "output_type": "display_data"
    }
   ],
   "source": [
    "vw.Returns[..3]\n"
   ]
  },
  {
   "cell_type": "markdown",
   "metadata": {},
   "source": [
    "### Long-short portfolios\n",
    "\n",
    "We get the Fama-French 3-Factor asset pricing model data.\n",
    "\n"
   ]
  },
  {
   "cell_type": "code",
   "execution_count": 16,
   "metadata": {
    "dotnet_interactive": {
     "language": "fsharp"
    },
    "polyglot_notebook": {
     "kernelName": "fsharp"
    }
   },
   "outputs": [
    {
     "ename": "Error",
     "evalue": "System.TypeLoadException: Could not load type 'FSharp.Data.Runtime.CsvFile`1' from assembly 'FSharp.Data, Version=6.2.0.0, Culture=neutral, PublicKeyToken=49286adf818aa259'.\r\n   at NovaSBE.Finance.French.getFF3(Frequency frequency)\r\n   at <StartupCode$FSI_0018>.$FSI_0018.main@()\r\n   at System.RuntimeMethodHandle.InvokeMethod(Object target, Void** arguments, Signature sig, Boolean isConstructor)\r\n   at System.Reflection.MethodInvoker.Invoke(Object obj, IntPtr* args, BindingFlags invokeAttr)",
     "output_type": "error",
     "traceback": [
      "System.TypeLoadException: Could not load type 'FSharp.Data.Runtime.CsvFile`1' from assembly 'FSharp.Data, Version=6.2.0.0, Culture=neutral, PublicKeyToken=49286adf818aa259'.\r\n",
      "   at NovaSBE.Finance.French.getFF3(Frequency frequency)\r\n",
      "   at <StartupCode$FSI_0018>.$FSI_0018.main@()\r\n",
      "   at System.RuntimeMethodHandle.InvokeMethod(Object target, Void** arguments, Signature sig, Boolean isConstructor)\r\n",
      "   at System.Reflection.MethodInvoker.Invoke(Object obj, IntPtr* args, BindingFlags invokeAttr)"
     ]
    }
   ],
   "source": [
    "open NovaSBE.Finance\n",
    "\n",
    "let ff3Lookup = \n",
    "    French.getFF3 French.Frequency.Monthly\n",
    "    |> Array.map (fun x -> DateTime(x.Date.Year, x.Date.Month, 1), x)\n",
    "    |> Map\n"
   ]
  },
  {
   "cell_type": "markdown",
   "metadata": {},
   "source": [
    "Isolate some notable portfolios.\n",
    "\n"
   ]
  },
  {
   "cell_type": "code",
   "execution_count": 17,
   "metadata": {
    "dotnet_interactive": {
     "language": "fsharp"
    },
    "polyglot_notebook": {
     "kernelName": "fsharp"
    }
   },
   "outputs": [
    {
     "ename": "Error",
     "evalue": "input.fsx (9,33)-(9,42) typecheck error The value or constructor 'ff3Lookup' is not defined.\ninput.fsx (18,33)-(18,42) typecheck error The value or constructor 'ff3Lookup' is not defined.",
     "output_type": "error",
     "traceback": [
      "input.fsx (9,33)-(9,42) typecheck error The value or constructor 'ff3Lookup' is not defined.\n",
      "input.fsx (18,33)-(18,42) typecheck error The value or constructor 'ff3Lookup' is not defined."
     ]
    }
   ],
   "source": [
    "type SignalPortfolioObs = \n",
    "    { Month: DateTime\n",
    "      Name: string\n",
    "      ExcessReturn: float }\n",
    "let long =\n",
    "    vw.Returns\n",
    "    |> List.filter (fun row -> row.Index = 3)\n",
    "    |> List.map (fun row ->\n",
    "        let retx = row.Return - ff3Lookup[row.Month].Rf \n",
    "        { Month = row.Month\n",
    "          Name = \"Long\"\n",
    "          ExcessReturn = retx })\n",
    "\n",
    "let short =\n",
    "    vw.Returns\n",
    "    |> List.filter (fun row -> row.Index = 1)\n",
    "    |> List.map (fun row -> \n",
    "        let retx = row.Return - ff3Lookup[row.Month].Rf \n",
    "        { Month = row.Month\n",
    "          Name = \"Short\"\n",
    "          ExcessReturn = retx })\n",
    "\n",
    "let longShort =\n",
    "    vw.Returns\n",
    "    |> List.groupBy (fun x -> x.Month)\n",
    "    |> List.map (fun (month, xs) ->\n",
    "        let long = xs |> List.find (fun x -> x.Index = 3)\n",
    "        let short = xs |> List.find (fun x -> x.Index = 1)\n",
    "        { Month = long.Month\n",
    "          Name = \"Long-short\"\n",
    "          ExcessReturn = long.Return - short.Return })\n"
   ]
  },
  {
   "cell_type": "markdown",
   "metadata": {},
   "source": [
    "## Start of assignment\n",
    "\n",
    "> **Task:** Calculate the annualized Sharpe ratios of your long, short, and long-short portfolios. Assign them to values `longSharpe`, `shortSharpe`, and `longShortSharpe`, respectively.\n",
    "> \n",
    "\n"
   ]
  },
  {
   "cell_type": "code",
   "execution_count": 18,
   "metadata": {
    "dotnet_interactive": {
     "language": "fsharp"
    },
    "polyglot_notebook": {
     "kernelName": "fsharp"
    }
   },
   "outputs": [],
   "source": [
    "// Solution here.\n"
   ]
  },
  {
   "cell_type": "markdown",
   "metadata": {},
   "source": [
    "Tests\n",
    "\n"
   ]
  },
  {
   "cell_type": "code",
   "execution_count": 19,
   "metadata": {
    "dotnet_interactive": {
     "language": "fsharp"
    },
    "polyglot_notebook": {
     "kernelName": "fsharp"
    }
   },
   "outputs": [
    {
     "ename": "Error",
     "evalue": "input.fsx (1,1)-(1,11) typecheck error The value or constructor 'longSharpe' is not defined.\ninput.fsx (2,1)-(2,12) typecheck error The value or constructor 'shortSharpe' is not defined.\ninput.fsx (3,1)-(3,16) typecheck error The value or constructor 'longShortSharpe' is not defined.",
     "output_type": "error",
     "traceback": [
      "input.fsx (1,1)-(1,11) typecheck error The value or constructor 'longSharpe' is not defined.\n",
      "input.fsx (2,1)-(2,12) typecheck error The value or constructor 'shortSharpe' is not defined.\n",
      "input.fsx (3,1)-(3,16) typecheck error The value or constructor 'longShortSharpe' is not defined."
     ]
    }
   ],
   "source": [
    "longSharpe |> should (equalWithin 1e-6) 0.2613490337\n",
    "shortSharpe |> should (equalWithin 1e-6) 0.490118588\n",
    "longShortSharpe |> should (equalWithin 1e-6) -0.05676492997\n"
   ]
  },
  {
   "cell_type": "markdown",
   "metadata": {},
   "source": [
    "> **Task:** Create a `list<RegData>` for your  long-short portfolio. Assign it to a value named `longShortRd`.\n",
    "> \n",
    "\n"
   ]
  },
  {
   "cell_type": "code",
   "execution_count": 20,
   "metadata": {
    "dotnet_interactive": {
     "language": "fsharp"
    },
    "polyglot_notebook": {
     "kernelName": "fsharp"
    }
   },
   "outputs": [],
   "source": [
    "type RegData =\n",
    "    { Month: DateTime\n",
    "      ExcessReturn: float \n",
    "      MktRf: float\n",
    "      Hml: float\n",
    "      Smb: float }\n",
    "\n",
    "// Solution here.\n"
   ]
  },
  {
   "cell_type": "markdown",
   "metadata": {},
   "source": [
    "Tests\n",
    "\n"
   ]
  },
  {
   "cell_type": "code",
   "execution_count": 21,
   "metadata": {
    "dotnet_interactive": {
     "language": "fsharp"
    },
    "polyglot_notebook": {
     "kernelName": "fsharp"
    }
   },
   "outputs": [
    {
     "ename": "Error",
     "evalue": "input.fsx (1,1)-(1,12) typecheck error The value or constructor 'longShortRd' is not defined.\ninput.fsx (2,1)-(2,12) typecheck error The value or constructor 'longShortRd' is not defined.",
     "output_type": "error",
     "traceback": [
      "input.fsx (1,1)-(1,12) typecheck error The value or constructor 'longShortRd' is not defined.\n",
      "input.fsx (2,1)-(2,12) typecheck error The value or constructor 'longShortRd' is not defined."
     ]
    }
   ],
   "source": [
    "longShortRd |> shouldHaveLength 252\n",
    "longShortRd |> should be ofExactType<RegData list>\n"
   ]
  },
  {
   "cell_type": "markdown",
   "metadata": {},
   "source": [
    "> **Task:** Fit CAPM and Fama-French 3-factor models for your long-short portfolio. Assign them to a values named `capmModel` and `ff3Model`, respectively.\n",
    "> \n",
    "\n"
   ]
  },
  {
   "cell_type": "code",
   "execution_count": 22,
   "metadata": {
    "dotnet_interactive": {
     "language": "fsharp"
    },
    "polyglot_notebook": {
     "kernelName": "fsharp"
    }
   },
   "outputs": [],
   "source": [
    "// Solution here.\n"
   ]
  },
  {
   "cell_type": "markdown",
   "metadata": {},
   "source": [
    "Tests.\n",
    "\n"
   ]
  },
  {
   "cell_type": "code",
   "execution_count": 23,
   "metadata": {
    "dotnet_interactive": {
     "language": "fsharp"
    },
    "polyglot_notebook": {
     "kernelName": "fsharp"
    }
   },
   "outputs": [
    {
     "ename": "Error",
     "evalue": "input.fsx (1,1)-(1,10) typecheck error The value or constructor 'capmModel' is not defined.\ninput.fsx (2,1)-(2,9) typecheck error The value or constructor 'ff3Model' is not defined.",
     "output_type": "error",
     "traceback": [
      "input.fsx (1,1)-(1,10) typecheck error The value or constructor 'capmModel' is not defined.\n",
      "input.fsx (2,1)-(2,9) typecheck error The value or constructor 'ff3Model' is not defined."
     ]
    }
   ],
   "source": [
    "capmModel |> should be ofExactType<RegressionResults>\n",
    "ff3Model |> should be ofExactType<RegressionResults>\n"
   ]
  },
  {
   "cell_type": "markdown",
   "metadata": {},
   "source": [
    "### CAPM model evaluation.\n",
    "\n",
    "> **Task:** What is the CAPM alpha for your long-short portfolio? Use code to assign the alpha to the value `capmAlpha`. Is it significantly different from zero? Use code to assign the t-statistic to the value `capmAlphaT`.\n",
    "> \n",
    "\n"
   ]
  },
  {
   "cell_type": "code",
   "execution_count": 24,
   "metadata": {
    "dotnet_interactive": {
     "language": "fsharp"
    },
    "polyglot_notebook": {
     "kernelName": "fsharp"
    }
   },
   "outputs": [],
   "source": [
    "// Solution here.\n"
   ]
  },
  {
   "cell_type": "markdown",
   "metadata": {},
   "source": [
    "Tests\n",
    "\n"
   ]
  },
  {
   "cell_type": "code",
   "execution_count": 25,
   "metadata": {
    "dotnet_interactive": {
     "language": "fsharp"
    },
    "polyglot_notebook": {
     "kernelName": "fsharp"
    }
   },
   "outputs": [
    {
     "ename": "Error",
     "evalue": "input.fsx (1,1)-(1,10) typecheck error The value or constructor 'capmAlpha' is not defined.\ninput.fsx (2,1)-(2,10) typecheck error The value or constructor 'capmAlphT' is not defined.",
     "output_type": "error",
     "traceback": [
      "input.fsx (1,1)-(1,10) typecheck error The value or constructor 'capmAlpha' is not defined.\n",
      "input.fsx (2,1)-(2,10) typecheck error The value or constructor 'capmAlphT' is not defined."
     ]
    }
   ],
   "source": [
    "capmAlpha |> should (equalWithin 1e-6) -0.003015844638\n",
    "capmAlphT |> should (equalWithin 1e-6) -1.011538156\n"
   ]
  },
  {
   "cell_type": "markdown",
   "metadata": {},
   "source": [
    "> **Task:** What is the CAPM beta for your long-short portfolio? Use code to assign the beta to the value `capmBeta`. Is it significantly different from zero? Use code to assign the t-statistic to the value `capmBetaT`.\n",
    "> \n",
    "\n"
   ]
  },
  {
   "cell_type": "code",
   "execution_count": 26,
   "metadata": {
    "dotnet_interactive": {
     "language": "fsharp"
    },
    "polyglot_notebook": {
     "kernelName": "fsharp"
    }
   },
   "outputs": [],
   "source": [
    "// Solution here.\n"
   ]
  },
  {
   "cell_type": "markdown",
   "metadata": {},
   "source": [
    "Tests\n",
    "\n"
   ]
  },
  {
   "cell_type": "code",
   "execution_count": 27,
   "metadata": {
    "dotnet_interactive": {
     "language": "fsharp"
    },
    "polyglot_notebook": {
     "kernelName": "fsharp"
    }
   },
   "outputs": [
    {
     "ename": "Error",
     "evalue": "input.fsx (1,1)-(1,9) typecheck error The value or constructor 'capmBeta' is not defined.\ninput.fsx (2,1)-(2,10) typecheck error The value or constructor 'capmBetaT' is not defined.",
     "output_type": "error",
     "traceback": [
      "input.fsx (1,1)-(1,9) typecheck error The value or constructor 'capmBeta' is not defined.\n",
      "input.fsx (2,1)-(2,10) typecheck error The value or constructor 'capmBetaT' is not defined."
     ]
    }
   ],
   "source": [
    "capmBeta |> should (equalWithin 1e-6) 0.3874415756\n",
    "capmBetaT |> should (equalWithin 1e-6) 5.957967542\n"
   ]
  },
  {
   "cell_type": "markdown",
   "metadata": {},
   "source": [
    "> **Task:** What is the information ratio for your long-short portfolio when using the CAPM model? Assign it to a value named `capmIR`.\n",
    "> \n",
    "\n"
   ]
  },
  {
   "cell_type": "code",
   "execution_count": 28,
   "metadata": {
    "dotnet_interactive": {
     "language": "fsharp"
    },
    "polyglot_notebook": {
     "kernelName": "fsharp"
    }
   },
   "outputs": [],
   "source": [
    "// Solution here.\n"
   ]
  },
  {
   "cell_type": "markdown",
   "metadata": {},
   "source": [
    "Tests\n",
    "\n"
   ]
  },
  {
   "cell_type": "code",
   "execution_count": 29,
   "metadata": {
    "dotnet_interactive": {
     "language": "fsharp"
    },
    "polyglot_notebook": {
     "kernelName": "fsharp"
    }
   },
   "outputs": [
    {
     "ename": "Error",
     "evalue": "input.fsx (1,1)-(1,7) typecheck error The value or constructor 'capmIR' is not defined.",
     "output_type": "error",
     "traceback": [
      "input.fsx (1,1)-(1,7) typecheck error The value or constructor 'capmIR' is not defined."
     ]
    }
   ],
   "source": [
    "capmIR |> should (equalWithin 1e-6) -0.06434136117\n"
   ]
  },
  {
   "cell_type": "markdown",
   "metadata": {},
   "source": [
    "### Fama-French 3-factor model evaluation.\n",
    "\n",
    "> **Task:** What is the Fama-French 3-factor model alpha for your long-short portfolio. Is it significantly different from zero?\n",
    "> \n",
    "\n"
   ]
  },
  {
   "cell_type": "code",
   "execution_count": 30,
   "metadata": {
    "dotnet_interactive": {
     "language": "fsharp"
    },
    "polyglot_notebook": {
     "kernelName": "fsharp"
    }
   },
   "outputs": [],
   "source": [
    "// Solution here.\n"
   ]
  },
  {
   "cell_type": "markdown",
   "metadata": {},
   "source": [
    "> **Task:** What are the betas on the Market, HML, and SMB factors for your long-short portfolio. Are they significantly different from zero?\n",
    "> \n",
    "\n"
   ]
  },
  {
   "cell_type": "code",
   "execution_count": 31,
   "metadata": {
    "dotnet_interactive": {
     "language": "fsharp"
    },
    "polyglot_notebook": {
     "kernelName": "fsharp"
    }
   },
   "outputs": [],
   "source": [
    "// Solution here.\n"
   ]
  },
  {
   "cell_type": "markdown",
   "metadata": {},
   "source": [
    "> **Task:** Based on the Market, HML, and SMB factor betas for your long-short portfolio, would you say your portfolio is more like a value portfolio, more like a growth portfolio, or neither? Explain.\n",
    "> \n",
    "\n"
   ]
  },
  {
   "cell_type": "code",
   "execution_count": 32,
   "metadata": {
    "dotnet_interactive": {
     "language": "fsharp"
    },
    "polyglot_notebook": {
     "kernelName": "fsharp"
    }
   },
   "outputs": [],
   "source": [
    "// Solution here.\n"
   ]
  },
  {
   "cell_type": "markdown",
   "metadata": {},
   "source": [
    "> **Task:** Based on the Market, HML, and SMB factor betas for your long-short portfolio, would you say your portfolio is more like a small-cap portfolio, more like a large-cap portfolio, or neither? Explain.\n",
    "> \n",
    "\n"
   ]
  },
  {
   "cell_type": "code",
   "execution_count": 33,
   "metadata": {
    "dotnet_interactive": {
     "language": "fsharp"
    },
    "polyglot_notebook": {
     "kernelName": "fsharp"
    }
   },
   "outputs": [],
   "source": [
    "// Solution here.\n"
   ]
  },
  {
   "cell_type": "markdown",
   "metadata": {},
   "source": [
    "> **Task:** What is the information ratio for your long-short portfolio when using the Fama and French 3-factor model?\n",
    "> \n",
    "\n"
   ]
  },
  {
   "cell_type": "code",
   "execution_count": 34,
   "metadata": {
    "dotnet_interactive": {
     "language": "fsharp"
    },
    "polyglot_notebook": {
     "kernelName": "fsharp"
    }
   },
   "outputs": [],
   "source": [
    "// Solution here.\n"
   ]
  }
 ],
 "metadata": {
  "kernelspec": {
   "display_name": ".NET (F#)",
   "language": "F#",
   "name": ".net-fsharp"
  },
  "language_info": {
   "file_extension": ".fs",
   "mimetype": "text/x-fsharp",
   "name": "polyglot-notebook",
   "pygments_lexer": "fsharp"
  },
  "polyglot_notebook": {
   "kernelInfo": {
    "defaultKernelName": "fsharp",
    "items": [
     {
      "aliases": [],
      "languageName": "fsharp",
      "name": "fsharp"
     }
    ]
   }
  }
 },
 "nbformat": 4,
 "nbformat_minor": 2
}
