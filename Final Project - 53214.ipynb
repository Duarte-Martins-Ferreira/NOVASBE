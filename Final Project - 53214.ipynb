{
 "cells": [
  {
   "cell_type": "markdown",
   "metadata": {},
   "source": [
    "[![Binder](../img/badge-binder.svg)](https://mybinder.org/v2/gh/nhirschey/teaching/gh-pages?filepath=project/signal-exploration.ipynb)&emsp;\n",
    "[![Script](../img/badge-script.svg)](/Teaching//project/signal-exploration.fsx)&emsp;\n",
    "[![Notebook](../img/badge-notebook.svg)](/Teaching//project/signal-exploration.ipynb)\n",
    "\n",
    "## Final Project\n",
    "\n",
    "**Student Name: Inês Abegão**\n",
    "\n",
    "**Student Number: 50552**\n",
    "\n",
    "**Signal Name: Net Debt Issuance scaled by Assets**\n",
    "\n",
    "**Signal Code: dbnetis_at**\n",
    "\n",
    "\n"
   ]
  },
  {
   "cell_type": "code",
   "execution_count": 1,
   "metadata": {
    "dotnet_interactive": {
     "language": "fsharp"
    }
   },
   "outputs": [
    {
     "data": {
      "text/html": [
       "<div><div></div><div></div><div><strong>Installed Packages</strong><ul><li><span>FSharp.Data, 6.2.0</span></li><li><span>FSharp.Stats, 0.4.11</span></li><li><span>Plotly.NET, 2.0.0-preview.17</span></li><li><span>Plotly.NET.Interactive, 2.0.0-preview.17</span></li></ul></div></div>"
      ]
     },
     "metadata": {},
     "output_type": "display_data"
    },
    {
     "data": {
      "text/plain": [
       "Loading extensions from `/Users/martins/.nuget/packages/plotly.net.interactive/2.0.0-preview.17/interactive-extensions/dotnet/Plotly.NET.Interactive.dll`"
      ]
     },
     "metadata": {},
     "output_type": "display_data"
    }
   ],
   "source": [
    "#r \"nuget: FSharp.Data\"\n",
    "#r \"nuget: FSharp.Stats\"\n",
    "#r \"nuget: Plotly.NET,2.0.0-preview.17\"\n",
    "#r \"nuget: Plotly.NET.Interactive,2.0.0-preview.17\"\n",
    "\n",
    "open System\n",
    "open FSharp.Data\n",
    "open FSharp.Stats\n",
    "open Plotly.NET"
   ]
  },
  {
   "cell_type": "code",
   "execution_count": 2,
   "metadata": {
    "dotnet_interactive": {
     "language": "fsharp"
    }
   },
   "outputs": [],
   "source": [
    "// Set dotnet interactive formatter to plaintext\n",
    "Formatter.Register(fun (x:obj) (writer: TextWriter) -> fprintfn writer \"%120A\" x )\n",
    "Formatter.SetPreferredMimeTypesFor(typeof<obj>, \"text/plain\")\n",
    "// Make plotly graphs work with interactive plaintext formatter\n",
    "Formatter.SetPreferredMimeTypesFor(typeof<GenericChart.GenericChart>,\"text/html\")"
   ]
  },
  {
   "cell_type": "markdown",
   "metadata": {},
   "source": [
    "## Load Data\n"
   ]
  },
  {
   "cell_type": "code",
   "execution_count": 3,
   "metadata": {
    "dotnet_interactive": {
     "language": "fsharp"
    }
   },
   "outputs": [
    {
     "ename": "Error",
     "evalue": "/Users/martins/Desktop/Nova SBE/Spring 2023/Data Analytics for Finance/Final Project/Common.fsx (71,33)-(71,40) typecheck error The type 'Caching' is not accessible from this code location\n/Users/martins/Desktop/Nova SBE/Spring 2023/Data Analytics for Finance/Final Project/Common.fsx (71,25)-(71,60) typecheck error The value 'createInMemoryCache' is not accessible from this code location\n/Users/martins/Desktop/Nova SBE/Spring 2023/Data Analytics for Finance/Final Project/Common.fsx (79,15)-(79,37) typecheck error The member or object constructor 'TryRetrieve' is not accessible. Private members may only be accessed from within the declaring type. Protected members may only be accessed from an extending type and cannot be accessed from inner lambda expressions.\n/Users/martins/Desktop/Nova SBE/Spring 2023/Data Analytics for Finance/Final Project/Common.fsx (91,13)-(91,34) typecheck error The member or object constructor 'Set' is not accessible. Private members may only be accessed from within the declaring type. Protected members may only be accessed from an extending type and cannot be accessed from inner lambda expressions.\n/Users/martins/Desktop/Nova SBE/Spring 2023/Data Analytics for Finance/Final Project/Common.fsx (158,29)-(158,36) typecheck error The type 'Caching' is not accessible from this code location\n/Users/martins/Desktop/Nova SBE/Spring 2023/Data Analytics for Finance/Final Project/Common.fsx (158,21)-(158,60) typecheck error The value 'createInternetFileCache' is not accessible from this code location\n/Users/martins/Desktop/Nova SBE/Spring 2023/Data Analytics for Finance/Final Project/Common.fsx (161,15)-(161,37) typecheck error The member or object constructor 'TryRetrieve' is not accessible. Private members may only be accessed from within the declaring type. Protected members may only be accessed from an extending type and cannot be accessed from inner lambda expressions.\n/Users/martins/Desktop/Nova SBE/Spring 2023/Data Analytics for Finance/Final Project/Common.fsx (173,13)-(173,32) typecheck error The member or object constructor 'Set' is not accessible. Private members may only be accessed from within the declaring type. Protected members may only be accessed from an extending type and cannot be accessed from inner lambda expressions.\n/Users/martins/Desktop/Nova SBE/Spring 2023/Data Analytics for Finance/Final Project/Common.fsx (217,17)-(217,24) typecheck error The type 'Caching' is not accessible from this code location\n/Users/martins/Desktop/Nova SBE/Spring 2023/Data Analytics for Finance/Final Project/Common.fsx (217,9)-(217,48) typecheck error The value 'createInternetFileCache' is not accessible from this code location\n/Users/martins/Desktop/Nova SBE/Spring 2023/Data Analytics for Finance/Final Project/Common.fsx (220,15)-(220,41) typecheck error The member or object constructor 'TryRetrieve' is not accessible. Private members may only be accessed from within the declaring type. Protected members may only be accessed from an extending type and cannot be accessed from inner lambda expressions.\n/Users/martins/Desktop/Nova SBE/Spring 2023/Data Analytics for Finance/Final Project/Common.fsx (230,13)-(230,36) typecheck error The member or object constructor 'Set' is not accessible. Private members may only be accessed from within the declaring type. Protected members may only be accessed from an extending type and cannot be accessed from inner lambda expressions.",
     "output_type": "error",
     "traceback": [
      "/Users/martins/Desktop/Nova SBE/Spring 2023/Data Analytics for Finance/Final Project/Common.fsx (71,33)-(71,40) typecheck error The type 'Caching' is not accessible from this code location\n",
      "/Users/martins/Desktop/Nova SBE/Spring 2023/Data Analytics for Finance/Final Project/Common.fsx (71,25)-(71,60) typecheck error The value 'createInMemoryCache' is not accessible from this code location\n",
      "/Users/martins/Desktop/Nova SBE/Spring 2023/Data Analytics for Finance/Final Project/Common.fsx (79,15)-(79,37) typecheck error The member or object constructor 'TryRetrieve' is not accessible. Private members may only be accessed from within the declaring type. Protected members may only be accessed from an extending type and cannot be accessed from inner lambda expressions.\n",
      "/Users/martins/Desktop/Nova SBE/Spring 2023/Data Analytics for Finance/Final Project/Common.fsx (91,13)-(91,34) typecheck error The member or object constructor 'Set' is not accessible. Private members may only be accessed from within the declaring type. Protected members may only be accessed from an extending type and cannot be accessed from inner lambda expressions.\n",
      "/Users/martins/Desktop/Nova SBE/Spring 2023/Data Analytics for Finance/Final Project/Common.fsx (158,29)-(158,36) typecheck error The type 'Caching' is not accessible from this code location\n",
      "/Users/martins/Desktop/Nova SBE/Spring 2023/Data Analytics for Finance/Final Project/Common.fsx (158,21)-(158,60) typecheck error The value 'createInternetFileCache' is not accessible from this code location\n",
      "/Users/martins/Desktop/Nova SBE/Spring 2023/Data Analytics for Finance/Final Project/Common.fsx (161,15)-(161,37) typecheck error The member or object constructor 'TryRetrieve' is not accessible. Private members may only be accessed from within the declaring type. Protected members may only be accessed from an extending type and cannot be accessed from inner lambda expressions.\n",
      "/Users/martins/Desktop/Nova SBE/Spring 2023/Data Analytics for Finance/Final Project/Common.fsx (173,13)-(173,32) typecheck error The member or object constructor 'Set' is not accessible. Private members may only be accessed from within the declaring type. Protected members may only be accessed from an extending type and cannot be accessed from inner lambda expressions.\n",
      "/Users/martins/Desktop/Nova SBE/Spring 2023/Data Analytics for Finance/Final Project/Common.fsx (217,17)-(217,24) typecheck error The type 'Caching' is not accessible from this code location\n",
      "/Users/martins/Desktop/Nova SBE/Spring 2023/Data Analytics for Finance/Final Project/Common.fsx (217,9)-(217,48) typecheck error The value 'createInternetFileCache' is not accessible from this code location\n",
      "/Users/martins/Desktop/Nova SBE/Spring 2023/Data Analytics for Finance/Final Project/Common.fsx (220,15)-(220,41) typecheck error The member or object constructor 'TryRetrieve' is not accessible. Private members may only be accessed from within the declaring type. Protected members may only be accessed from an extending type and cannot be accessed from inner lambda expressions.\n",
      "/Users/martins/Desktop/Nova SBE/Spring 2023/Data Analytics for Finance/Final Project/Common.fsx (230,13)-(230,36) typecheck error The member or object constructor 'Set' is not accessible. Private members may only be accessed from within the declaring type. Protected members may only be accessed from an extending type and cannot be accessed from inner lambda expressions."
     ]
    }
   ],
   "source": [
    "let [<Literal>] ResolutionFolder = __SOURCE_DIRECTORY__\n",
    "Environment.CurrentDirectory <- ResolutionFolder\n",
    "\n",
    "#load \"Common.fsx\"\n",
    "open Common\n",
    "#load \"Portfolio.fsx\"\n",
    "open Portfolio\n"
   ]
  },
  {
   "cell_type": "code",
   "execution_count": 4,
   "metadata": {
    "dotnet_interactive": {
     "language": "fsharp"
    }
   },
   "outputs": [
    {
     "ename": "Error",
     "evalue": "input.fsx (9,34)-(9,50) typecheck error The value or constructor 'ResolutionFolder' is not defined.\ninput.fsx (9,34)-(9,50) typecheck error The value or constructor 'ResolutionFolder' is not defined.\ninput.fsx (13,34)-(13,50) typecheck error The value or constructor 'ResolutionFolder' is not defined.\ninput.fsx (13,34)-(13,50) typecheck error The value or constructor 'ResolutionFolder' is not defined.\ninput.fsx (16,40)-(16,49) typecheck error The type 'Object' does not define the field, constructor or member 'GetSample'.\ninput.fsx (18,32)-(18,41) typecheck error The type 'Object' does not define the field, constructor or member 'GetSample'.\ninput.fsx (21,24)-(21,44) typecheck error Lookup on object of indeterminate type based on information prior to this program point. A type annotation may be needed prior to this program point to constrain the type of the object. This may allow the lookup to be resolved.\ninput.fsx (22,20)-(22,36) typecheck error Lookup on object of indeterminate type based on information prior to this program point. A type annotation may be needed prior to this program point to constrain the type of the object. This may allow the lookup to be resolved.",
     "output_type": "error",
     "traceback": [
      "input.fsx (9,34)-(9,50) typecheck error The value or constructor 'ResolutionFolder' is not defined.\n",
      "input.fsx (9,34)-(9,50) typecheck error The value or constructor 'ResolutionFolder' is not defined.\n",
      "input.fsx (13,34)-(13,50) typecheck error The value or constructor 'ResolutionFolder' is not defined.\n",
      "input.fsx (13,34)-(13,50) typecheck error The value or constructor 'ResolutionFolder' is not defined.\n",
      "input.fsx (16,40)-(16,49) typecheck error The type 'Object' does not define the field, constructor or member 'GetSample'.\n",
      "input.fsx (18,32)-(18,41) typecheck error The type 'Object' does not define the field, constructor or member 'GetSample'.\n",
      "input.fsx (21,24)-(21,44) typecheck error Lookup on object of indeterminate type based on information prior to this program point. A type annotation may be needed prior to this program point to constrain the type of the object. This may allow the lookup to be resolved.\n",
      "input.fsx (22,20)-(22,36) typecheck error Lookup on object of indeterminate type based on information prior to this program point. A type annotation may be needed prior to this program point to constrain the type of the object. This may allow the lookup to be resolved."
     ]
    }
   ],
   "source": [
    "\n",
    "let [<Literal>] IdAndReturnsFilePath = \"data/id_and_return_data.csv\"\n",
    "let [<Literal>] MySignalFilePath = \"data/dbnetis_at.csv\"\n",
    "let strategyName = \"NetDebt\"\n",
    "\n",
    "type IdAndReturnsType = \n",
    "    CsvProvider<Sample=IdAndReturnsFilePath,\n",
    "                Schema=\"obsMain(string)->obsMain=bool,exchMain(string)->exchMain=bool\",\n",
    "                ResolutionFolder=ResolutionFolder>\n",
    "\n",
    "type MySignalType = \n",
    "    CsvProvider<MySignalFilePath,\n",
    "                ResolutionFolder=ResolutionFolder>\n",
    "\n",
    "\n",
    "let idAndReturnsCsv = IdAndReturnsType.GetSample()\n",
    "\n",
    "let mySignalCsv = MySignalType.GetSample()\n",
    "\n",
    "// Puting the rows into a list, because it is more familiar\n",
    "let idAndReturnsRows = idAndReturnsCsv.Rows |> Seq.toList\n",
    "let mySignalRows = mySignalCsv.Rows |> Seq.toList\n",
    "\n",
    "idAndReturnsCsv.Headers"
   ]
  },
  {
   "cell_type": "markdown",
   "metadata": {},
   "source": [
    "## Strategy Analysis\n",
    "\n",
    "**Construct the strategy**"
   ]
  },
  {
   "cell_type": "code",
   "execution_count": 5,
   "metadata": {
    "dotnet_interactive": {
     "language": "fsharp"
    }
   },
   "outputs": [
    {
     "ename": "Error",
     "evalue": "input.fsx (2,5)-(2,21) typecheck error The value or constructor 'idAndReturnsRows' is not defined.\ninput.fsx (4,18)-(4,23) typecheck error The value or constructor 'Other' is not defined.\ninput.fsx (5,30)-(5,42) typecheck error Lookup on object of indeterminate type based on information prior to this program point. A type annotation may be needed prior to this program point to constrain the type of the object. This may allow the lookup to be resolved.\ninput.fsx (5,43)-(5,56) typecheck error Lookup on object of indeterminate type based on information prior to this program point. A type annotation may be needed prior to this program point to constrain the type of the object. This may allow the lookup to be resolved.\ninput.fsx (11,5)-(11,17) typecheck error The value or constructor 'mySignalRows' is not defined.\ninput.fsx (13,15)-(13,25) typecheck error Lookup on object of indeterminate type based on information prior to this program point. A type annotation may be needed prior to this program point to constrain the type of the object. This may allow the lookup to be resolved.\ninput.fsx (16,22)-(16,27) typecheck error The value or constructor 'Other' is not defined.\ninput.fsx (17,34)-(17,46) typecheck error Lookup on object of indeterminate type based on information prior to this program point. A type annotation may be needed prior to this program point to constrain the type of the object. This may allow the lookup to be resolved.\ninput.fsx (17,47)-(17,60) typecheck error Lookup on object of indeterminate type based on information prior to this program point. A type annotation may be needed prior to this program point to constrain the type of the object. This may allow the lookup to be resolved.\ninput.fsx (23,5)-(23,21) typecheck error The value or constructor 'idAndReturnsRows' is not defined.\ninput.fsx (24,39)-(24,49) typecheck error Lookup on object of indeterminate type based on information prior to this program point. A type annotation may be needed prior to this program point to constrain the type of the object. This may allow the lookup to be resolved.\ninput.fsx (24,51)-(24,62) typecheck error Lookup on object of indeterminate type based on information prior to this program point. A type annotation may be needed prior to this program point to constrain the type of the object. This may allow the lookup to be resolved.\ninput.fsx (26,55)-(26,60) typecheck error The value or constructor 'Other' is not defined.\ninput.fsx (33,11)-(33,25) typecheck error The record label 'FormationMonth' is not defined.\ninput.fsx (41,16)-(41,26) typecheck error The record label 'SecurityId' is not defined.\ninput.fsx (46,39)-(46,57) typecheck error The type 'InvestmentUniverse' is not defined.\ninput.fsx (48,9)-(48,38) typecheck error Lookup on object of indeterminate type based on information prior to this program point. A type annotation may be needed prior to this program point to constrain the type of the object. This may allow the lookup to be resolved.\ninput.fsx (50,36)-(50,69) typecheck error Lookup on object of indeterminate type based on information prior to this program point. A type annotation may be needed prior to this program point to constrain the type of the object. This may allow the lookup to be resolved.\ninput.fsx (52,7)-(52,21) typecheck error The record label 'FormationMonth' is not defined.\ninput.fsx (59,15)-(59,31) typecheck error Lookup on object of indeterminate type based on information prior to this program point. A type annotation may be needed prior to this program point to constrain the type of the object. This may allow the lookup to be resolved.\ninput.fsx (70,15)-(70,20) typecheck error Lookup on object of indeterminate type based on information prior to this program point. A type annotation may be needed prior to this program point to constrain the type of the object. This may allow the lookup to be resolved.",
     "output_type": "error",
     "traceback": [
      "input.fsx (2,5)-(2,21) typecheck error The value or constructor 'idAndReturnsRows' is not defined.\n",
      "input.fsx (4,18)-(4,23) typecheck error The value or constructor 'Other' is not defined.\n",
      "input.fsx (5,30)-(5,42) typecheck error Lookup on object of indeterminate type based on information prior to this program point. A type annotation may be needed prior to this program point to constrain the type of the object. This may allow the lookup to be resolved.\n",
      "input.fsx (5,43)-(5,56) typecheck error Lookup on object of indeterminate type based on information prior to this program point. A type annotation may be needed prior to this program point to constrain the type of the object. This may allow the lookup to be resolved.\n",
      "input.fsx (11,5)-(11,17) typecheck error The value or constructor 'mySignalRows' is not defined.\n",
      "input.fsx (13,15)-(13,25) typecheck error Lookup on object of indeterminate type based on information prior to this program point. A type annotation may be needed prior to this program point to constrain the type of the object. This may allow the lookup to be resolved.\n",
      "input.fsx (16,22)-(16,27) typecheck error The value or constructor 'Other' is not defined.\n",
      "input.fsx (17,34)-(17,46) typecheck error Lookup on object of indeterminate type based on information prior to this program point. A type annotation may be needed prior to this program point to constrain the type of the object. This may allow the lookup to be resolved.\n",
      "input.fsx (17,47)-(17,60) typecheck error Lookup on object of indeterminate type based on information prior to this program point. A type annotation may be needed prior to this program point to constrain the type of the object. This may allow the lookup to be resolved.\n",
      "input.fsx (23,5)-(23,21) typecheck error The value or constructor 'idAndReturnsRows' is not defined.\n",
      "input.fsx (24,39)-(24,49) typecheck error Lookup on object of indeterminate type based on information prior to this program point. A type annotation may be needed prior to this program point to constrain the type of the object. This may allow the lookup to be resolved.\n",
      "input.fsx (24,51)-(24,62) typecheck error Lookup on object of indeterminate type based on information prior to this program point. A type annotation may be needed prior to this program point to constrain the type of the object. This may allow the lookup to be resolved.\n",
      "input.fsx (26,55)-(26,60) typecheck error The value or constructor 'Other' is not defined.\n",
      "input.fsx (33,11)-(33,25) typecheck error The record label 'FormationMonth' is not defined.\n",
      "input.fsx (41,16)-(41,26) typecheck error The record label 'SecurityId' is not defined.\n",
      "input.fsx (46,39)-(46,57) typecheck error The type 'InvestmentUniverse' is not defined.\n",
      "input.fsx (48,9)-(48,38) typecheck error Lookup on object of indeterminate type based on information prior to this program point. A type annotation may be needed prior to this program point to constrain the type of the object. This may allow the lookup to be resolved.\n",
      "input.fsx (50,36)-(50,69) typecheck error Lookup on object of indeterminate type based on information prior to this program point. A type annotation may be needed prior to this program point to constrain the type of the object. This may allow the lookup to be resolved.\n",
      "input.fsx (52,7)-(52,21) typecheck error The record label 'FormationMonth' is not defined.\n",
      "input.fsx (59,15)-(59,31) typecheck error Lookup on object of indeterminate type based on information prior to this program point. A type annotation may be needed prior to this program point to constrain the type of the object. This may allow the lookup to be resolved.\n",
      "input.fsx (70,15)-(70,20) typecheck error Lookup on object of indeterminate type based on information prior to this program point. A type annotation may be needed prior to this program point to constrain the type of the object. This may allow the lookup to be resolved."
     ]
    }
   ],
   "source": [
    "let msfBySecurityIdAndMonth =\n",
    "    idAndReturnsRows\n",
    "    |> List.map(fun row -> \n",
    "        let id = Other row.Id\n",
    "        let month = DateTime(row.Eom.Year,row.Eom.Month,1)\n",
    "        let key = id, month\n",
    "        key, row)\n",
    "    |> Map    \n",
    "\n",
    "let signalBySecurityIdAndMonth =\n",
    "    mySignalRows\n",
    "    |> List.choose(fun row -> \n",
    "        match row.Signal with\n",
    "        | None -> None // choose will drop these None observations\n",
    "        | Some signal ->\n",
    "            let id = Other row.Id\n",
    "            let month = DateTime(row.Eom.Year,row.Eom.Month,1)\n",
    "            let key = id, month\n",
    "            Some (key, signal))\n",
    "    |> Map    \n",
    "\n",
    "let securitiesByFormationMonth =\n",
    "    idAndReturnsRows\n",
    "    |> List.groupBy(fun x -> DateTime(x.Eom.Year, x.Eom.Month,1))\n",
    "    |> List.map(fun (ym, obsThisMonth) -> \n",
    "        let idsThisMonth = [ for x in obsThisMonth do Other x.Id ]\n",
    "        ym, idsThisMonth)\n",
    "    |> Map\n",
    "\n",
    "let getInvestmentUniverse formationMonth =\n",
    "    match Map.tryFind formationMonth securitiesByFormationMonth with\n",
    "    | Some securities -> \n",
    "        { FormationMonth = formationMonth \n",
    "          Securities = securities }\n",
    "    | None -> failwith $\"{formationMonth} is not in the date range\"\n",
    "\n",
    "let getMySignal (securityId, formationMonth) =\n",
    "    match Map.tryFind (securityId, formationMonth) signalBySecurityIdAndMonth with\n",
    "    | None -> None\n",
    "    | Some signal ->\n",
    "        Some { SecurityId = securityId \n",
    "            //if a high singal means low returns,\n",
    "            // use \"-signal\" instead of \"signal\"\n",
    "               Signal = -signal }\n",
    "\n",
    "let getMySignals (investmentUniverse: InvestmentUniverse) =\n",
    "    let listOfSecuritySignals =\n",
    "        investmentUniverse.Securities\n",
    "        |> List.choose(fun security -> \n",
    "            getMySignal (security, investmentUniverse.FormationMonth))    \n",
    "    \n",
    "    { FormationMonth = investmentUniverse.FormationMonth \n",
    "      Signals = listOfSecuritySignals }\n",
    "\n",
    "let getMarketCap (security, formationMonth) =\n",
    "    match Map.tryFind (security, formationMonth) msfBySecurityIdAndMonth with\n",
    "    | None -> None\n",
    "    | Some row -> \n",
    "        match row.MarketEquity with\n",
    "        | None -> None\n",
    "        | Some me -> Some (security, me)\n",
    "\n",
    "let getSecurityReturn (security, formationMonth) =\n",
    "    // If the security has a missing return, assume that we got 0.0.\n",
    "    // Note: If we were doing excess returns, we would need 0.0 - rf.\n",
    "    let missingReturn = 0.0\n",
    "    match Map.tryFind (security, formationMonth) msfBySecurityIdAndMonth with\n",
    "    | None -> security, missingReturn\n",
    "    | Some x ->  \n",
    "        match x.Ret with \n",
    "        | None -> security, missingReturn\n",
    "        | Some r -> security, r"
   ]
  },
  {
   "cell_type": "code",
   "execution_count": 6,
   "metadata": {
    "dotnet_interactive": {
     "language": "fsharp"
    }
   },
   "outputs": [
    {
     "ename": "Error",
     "evalue": "input.fsx (2,50)-(2,73) typecheck error The value or constructor 'msfBySecurityIdAndMonth' is not defined.\ninput.fsx (4,19)-(4,30) typecheck error Lookup on object of indeterminate type based on information prior to this program point. A type annotation may be needed prior to this program point to constrain the type of the object. This may allow the lookup to be resolved.\ninput.fsx (7,50)-(7,73) typecheck error The value or constructor 'msfBySecurityIdAndMonth' is not defined.\ninput.fsx (9,19)-(9,33) typecheck error Lookup on object of indeterminate type based on information prior to this program point. A type annotation may be needed prior to this program point to constrain the type of the object. This may allow the lookup to be resolved.\ninput.fsx (12,50)-(12,73) typecheck error The value or constructor 'msfBySecurityIdAndMonth' is not defined.\ninput.fsx (14,19)-(14,29) typecheck error Lookup on object of indeterminate type based on information prior to this program point. A type annotation may be needed prior to this program point to constrain the type of the object. This may allow the lookup to be resolved.\ninput.fsx (17,50)-(17,73) typecheck error The value or constructor 'msfBySecurityIdAndMonth' is not defined.\ninput.fsx (19,19)-(19,31) typecheck error Lookup on object of indeterminate type based on information prior to this program point. A type annotation may be needed prior to this program point to constrain the type of the object. This may allow the lookup to be resolved.\ninput.fsx (22,50)-(22,73) typecheck error The value or constructor 'msfBySecurityIdAndMonth' is not defined.\ninput.fsx (24,19)-(24,42) typecheck error Lookup on object of indeterminate type based on information prior to this program point. A type annotation may be needed prior to this program point to constrain the type of the object. This may allow the lookup to be resolved.\ninput.fsx (34,27)-(34,45) typecheck error The type 'InvestmentUniverse' is not defined.\ninput.fsx (36,9)-(36,28) typecheck error Lookup on object of indeterminate type based on information prior to this program point. A type annotation may be needed prior to this program point to constrain the type of the object. This may allow the lookup to be resolved.\ninput.fsx (38,47)-(38,70) typecheck error Lookup on object of indeterminate type based on information prior to this program point. A type annotation may be needed prior to this program point to constrain the type of the object. This may allow the lookup to be resolved.\ninput.fsx (43,21)-(43,31) typecheck error The record label 'Securities' is not defined.",
     "output_type": "error",
     "traceback": [
      "input.fsx (2,50)-(2,73) typecheck error The value or constructor 'msfBySecurityIdAndMonth' is not defined.\n",
      "input.fsx (4,19)-(4,30) typecheck error Lookup on object of indeterminate type based on information prior to this program point. A type annotation may be needed prior to this program point to constrain the type of the object. This may allow the lookup to be resolved.\n",
      "input.fsx (7,50)-(7,73) typecheck error The value or constructor 'msfBySecurityIdAndMonth' is not defined.\n",
      "input.fsx (9,19)-(9,33) typecheck error Lookup on object of indeterminate type based on information prior to this program point. A type annotation may be needed prior to this program point to constrain the type of the object. This may allow the lookup to be resolved.\n",
      "input.fsx (12,50)-(12,73) typecheck error The value or constructor 'msfBySecurityIdAndMonth' is not defined.\n",
      "input.fsx (14,19)-(14,29) typecheck error Lookup on object of indeterminate type based on information prior to this program point. A type annotation may be needed prior to this program point to constrain the type of the object. This may allow the lookup to be resolved.\n",
      "input.fsx (17,50)-(17,73) typecheck error The value or constructor 'msfBySecurityIdAndMonth' is not defined.\n",
      "input.fsx (19,19)-(19,31) typecheck error Lookup on object of indeterminate type based on information prior to this program point. A type annotation may be needed prior to this program point to constrain the type of the object. This may allow the lookup to be resolved.\n",
      "input.fsx (22,50)-(22,73) typecheck error The value or constructor 'msfBySecurityIdAndMonth' is not defined.\n",
      "input.fsx (24,19)-(24,42) typecheck error Lookup on object of indeterminate type based on information prior to this program point. A type annotation may be needed prior to this program point to constrain the type of the object. This may allow the lookup to be resolved.\n",
      "input.fsx (34,27)-(34,45) typecheck error The type 'InvestmentUniverse' is not defined.\n",
      "input.fsx (36,9)-(36,28) typecheck error Lookup on object of indeterminate type based on information prior to this program point. A type annotation may be needed prior to this program point to constrain the type of the object. This may allow the lookup to be resolved.\n",
      "input.fsx (38,47)-(38,70) typecheck error Lookup on object of indeterminate type based on information prior to this program point. A type annotation may be needed prior to this program point to constrain the type of the object. This may allow the lookup to be resolved.\n",
      "input.fsx (43,21)-(43,31) typecheck error The record label 'Securities' is not defined."
     ]
    }
   ],
   "source": [
    "let isObsMain (security, formationMonth) =\n",
    "    match Map.tryFind (security, formationMonth) msfBySecurityIdAndMonth with\n",
    "    | None -> false\n",
    "    | Some row -> row.ObsMain\n",
    "\n",
    "let isPrimarySecurity (security, formationMonth) =\n",
    "    match Map.tryFind (security, formationMonth) msfBySecurityIdAndMonth with\n",
    "    | None -> false\n",
    "    | Some row -> row.PrimarySec\n",
    "\n",
    "let isCommonStock (security, formationMonth) =\n",
    "    match Map.tryFind (security, formationMonth) msfBySecurityIdAndMonth with\n",
    "    | None -> false\n",
    "    | Some row -> row.Common\n",
    "\n",
    "let isExchMain (security, formationMonth) =\n",
    "    match Map.tryFind (security, formationMonth) msfBySecurityIdAndMonth with\n",
    "    | None -> false\n",
    "    | Some row -> row.ExchMain\n",
    "\n",
    "let hasMarketEquity (security, formationMonth) =\n",
    "    match Map.tryFind (security, formationMonth) msfBySecurityIdAndMonth with\n",
    "    | None -> false\n",
    "    | Some row -> row.MarketEquity.IsSome\n",
    "\n",
    "let myFilters securityAndFormationMonth =\n",
    "    isObsMain securityAndFormationMonth &&\n",
    "    isPrimarySecurity securityAndFormationMonth &&\n",
    "    isCommonStock securityAndFormationMonth &&\n",
    "    isExchMain securityAndFormationMonth &&\n",
    "    isExchMain securityAndFormationMonth &&\n",
    "    hasMarketEquity securityAndFormationMonth\n",
    "\n",
    "let doMyFilters (universe:InvestmentUniverse) =\n",
    "    let filtered = \n",
    "        universe.Securities\n",
    "        // my filters expect security, formationMonth\n",
    "        |> List.map(fun security -> security, universe.FormationMonth)\n",
    "        // do the filters\n",
    "        |> List.filter myFilters\n",
    "        // now convert back from security, formationMonth -> security\n",
    "        |> List.map fst\n",
    "    { universe with Securities = filtered }"
   ]
  },
  {
   "cell_type": "code",
   "execution_count": 7,
   "metadata": {
    "dotnet_interactive": {
     "language": "fsharp"
    }
   },
   "outputs": [
    {
     "ename": "Error",
     "evalue": "input.fsx (3,9)-(3,25) typecheck error The value or constructor 'idAndReturnsRows' is not defined.\ninput.fsx (4,37)-(4,44) typecheck error Lookup on object of indeterminate type based on information prior to this program point. A type annotation may be needed prior to this program point to constrain the type of the object. This may allow the lookup to be resolved.\ninput.fsx (9,37)-(9,43) typecheck error Lookup on object of indeterminate type based on information prior to this program point. A type annotation may be needed prior to this program point to constrain the type of the object. This may allow the lookup to be resolved.\ninput.fsx (22,5)-(22,17) typecheck error The value or constructor 'mySignalRows' is not defined.\ninput.fsx (25,11)-(25,15) typecheck error This expression was expected to have type\n    'float'    \nbut here has type\n    ''a option'    \ninput.fsx (29,56)-(29,72) typecheck error The namespace or module 'IdAndReturnsType' is not defined.\ninput.fsx (30,9)-(30,25) typecheck error The value or constructor 'idAndReturnsRows' is not defined. Maybe you want one of the following:\n   idAndReturnStocksPerMonth",
     "output_type": "error",
     "traceback": [
      "input.fsx (3,9)-(3,25) typecheck error The value or constructor 'idAndReturnsRows' is not defined.\n",
      "input.fsx (4,37)-(4,44) typecheck error Lookup on object of indeterminate type based on information prior to this program point. A type annotation may be needed prior to this program point to constrain the type of the object. This may allow the lookup to be resolved.\n",
      "input.fsx (9,37)-(9,43) typecheck error Lookup on object of indeterminate type based on information prior to this program point. A type annotation may be needed prior to this program point to constrain the type of the object. This may allow the lookup to be resolved.\n",
      "input.fsx (22,5)-(22,17) typecheck error The value or constructor 'mySignalRows' is not defined.\n",
      "input.fsx (25,11)-(25,15) typecheck error This expression was expected to have type\n",
      "    'float'    \n",
      "but here has type\n",
      "    ''a option'    \n",
      "input.fsx (29,56)-(29,72) typecheck error The namespace or module 'IdAndReturnsType' is not defined.\n",
      "input.fsx (30,9)-(30,25) typecheck error The value or constructor 'idAndReturnsRows' is not defined. Maybe you want one of the following:\n",
      "   idAndReturnStocksPerMonth"
     ]
    }
   ],
   "source": [
    "let idAndReturnStocksPerMonth =\n",
    "    let byMonth =\n",
    "        idAndReturnsRows\n",
    "        |> List.groupBy (fun row -> row.Eom)\n",
    "        |> List.sortBy (fun (month, rows) -> month)\n",
    "    [ for (month, rows) in byMonth do\n",
    "        let nStocks = \n",
    "            rows\n",
    "            |> List.map (fun row -> row.Id)\n",
    "            |> List.distinct\n",
    "            |> List.length\n",
    "        month, nStocks ]\n",
    "\n",
    "type NonMissingSignal =\n",
    "    {\n",
    "        Id: string\n",
    "        Eom: DateTime\n",
    "        Signal: float\n",
    "    }\n",
    "\n",
    "let myNonMissingSignals =\n",
    "    mySignalRows\n",
    "    |> List.choose (fun row -> \n",
    "        match row.Signal with\n",
    "        | None -> None\n",
    "        | Some signal -> \n",
    "            Some { Id = row.Id; Eom = row.Eom; Signal = signal })\n",
    "     \n",
    "let byStockMonthIdAndReturnMap: Map<string * DateTime, IdAndReturnsType.Row> =\n",
    "        idAndReturnsRows            \n",
    "        |> List.map(fun row ->\n",
    "            let id = row.Id\n",
    "            let month = DateTime(row.Eom.Year, row.Eom.Month, row.Eom.Day)\n",
    "            let key = id, month\n",
    "            key, row)\n",
    "        |> Map\n",
    "\n",
    "let byStockMonthSignals: list<DateTime * list<NonMissingSignal>> =\n",
    "    let byStockMonthSignals =\n",
    "        myNonMissingSignals\n",
    "        |> List.groupBy (fun row -> row.Eom)\n",
    "        |> List.sortBy (fun(month, rows) -> month)\n",
    "    [for (month, rows) in byStockMonthSignals do month, rows]\n"
   ]
  },
  {
   "cell_type": "code",
   "execution_count": 8,
   "metadata": {
    "dotnet_interactive": {
     "language": "fsharp"
    }
   },
   "outputs": [
    {
     "ename": "Error",
     "evalue": "input.fsx (4,20)-(4,36) typecheck error The type 'NonMissingSignal' is not defined.\ninput.fsx (4,20)-(4,36) typecheck error The type 'NonMissingSignal' is not defined.\ninput.fsx (7,5)-(7,24) typecheck error The value or constructor 'byStockMonthSignals' is not defined.\ninput.fsx (11,45)-(11,60) typecheck error Lookup on object of indeterminate type based on information prior to this program point. A type annotation may be needed prior to this program point to constrain the type of the object. This may allow the lookup to be resolved.",
     "output_type": "error",
     "traceback": [
      "input.fsx (4,20)-(4,36) typecheck error The type 'NonMissingSignal' is not defined.\n",
      "input.fsx (4,20)-(4,36) typecheck error The type 'NonMissingSignal' is not defined.\n",
      "input.fsx (7,5)-(7,24) typecheck error The value or constructor 'byStockMonthSignals' is not defined.\n",
      "input.fsx (11,45)-(11,60) typecheck error Lookup on object of indeterminate type based on information prior to this program point. A type annotation may be needed prior to this program point to constrain the type of the object. This may allow the lookup to be resolved."
     ]
    }
   ],
   "source": [
    "type SortedPort =\n",
    "    { Portfolio: int\n",
    "      Eom: DateTime\n",
    "      Stocks: list<NonMissingSignal> }\n",
    "\n",
    "let terciles =\n",
    "    byStockMonthSignals\n",
    "    |> List.collect (fun (eom, signals) ->\n",
    "        let sortedSignals =\n",
    "            signals\n",
    "            |> List.sortBy (fun signalOb -> signalOb.Signal)\n",
    "            |> List.splitInto 3\n",
    "        sortedSignals\n",
    "        |> List.mapi (fun i p -> \n",
    "            { Portfolio = i + 1\n",
    "              Eom = eom\n",
    "              Stocks = p }))       "
   ]
  },
  {
   "cell_type": "code",
   "execution_count": 9,
   "metadata": {
    "dotnet_interactive": {
     "language": "fsharp"
    }
   },
   "outputs": [
    {
     "ename": "Error",
     "evalue": "input.fsx (1,25)-(1,33) typecheck error The value or constructor 'terciles' is not defined. Maybe you want one of the following:\n   Recipes\ninput.fsx (1,62)-(1,75) typecheck error Lookup on object of indeterminate type based on information prior to this program point. A type annotation may be needed prior to this program point to constrain the type of the object. This may allow the lookup to be resolved.\ninput.fsx (3,24)-(3,34) typecheck error The type 'SortedPort' is not defined.\ninput.fsx (5,30)-(5,35) typecheck error Lookup on object of indeterminate type based on information prior to this program point. A type annotation may be needed prior to this program point to constrain the type of the object. This may allow the lookup to be resolved.\ninput.fsx (7,27)-(7,37) typecheck error The type 'SortedPort' is not defined.\ninput.fsx (9,30)-(9,35) typecheck error Lookup on object of indeterminate type based on information prior to this program point. A type annotation may be needed prior to this program point to constrain the type of the object. This may allow the lookup to be resolved.\ninput.fsx (11,27)-(11,37) typecheck error The type 'SortedPort' is not defined.\ninput.fsx (13,30)-(13,35) typecheck error Lookup on object of indeterminate type based on information prior to this program point. A type annotation may be needed prior to this program point to constrain the type of the object. This may allow the lookup to be resolved.",
     "output_type": "error",
     "traceback": [
      "input.fsx (1,25)-(1,33) typecheck error The value or constructor 'terciles' is not defined. Maybe you want one of the following:\n",
      "   Recipes\n",
      "input.fsx (1,62)-(1,75) typecheck error Lookup on object of indeterminate type based on information prior to this program point. A type annotation may be needed prior to this program point to constrain the type of the object. This may allow the lookup to be resolved.\n",
      "input.fsx (3,24)-(3,34) typecheck error The type 'SortedPort' is not defined.\n",
      "input.fsx (5,30)-(5,35) typecheck error Lookup on object of indeterminate type based on information prior to this program point. A type annotation may be needed prior to this program point to constrain the type of the object. This may allow the lookup to be resolved.\n",
      "input.fsx (7,27)-(7,37) typecheck error The type 'SortedPort' is not defined.\n",
      "input.fsx (9,30)-(9,35) typecheck error Lookup on object of indeterminate type based on information prior to this program point. A type annotation may be needed prior to this program point to constrain the type of the object. This may allow the lookup to be resolved.\n",
      "input.fsx (11,27)-(11,37) typecheck error The type 'SortedPort' is not defined.\n",
      "input.fsx (13,30)-(13,35) typecheck error Lookup on object of indeterminate type based on information prior to this program point. A type annotation may be needed prior to this program point to constrain the type of the object. This may allow the lookup to be resolved."
     ]
    }
   ],
   "source": [
    "let tercilePortfolios = terciles |> List.groupBy (fun row -> row.Portfolio)\n",
    "\n",
    "let topPortfolio: list<SortedPort> =\n",
    "    snd tercilePortfolios[0]\n",
    "    |> List.sortBy (fun p -> p.Eom)\n",
    "\n",
    "let middlePortfolio: list<SortedPort> =\n",
    "    snd tercilePortfolios[1]\n",
    "    |> List.sortBy (fun p -> p.Eom)\n",
    "\n",
    "let bottomPortfolio: list<SortedPort> =\n",
    "    snd tercilePortfolios[2]\n",
    "    |> List.sortBy (fun p -> p.Eom)"
   ]
  },
  {
   "cell_type": "code",
   "execution_count": 10,
   "metadata": {
    "dotnet_interactive": {
     "language": "fsharp"
    }
   },
   "outputs": [
    {
     "ename": "Error",
     "evalue": "input.fsx (2,5)-(2,21) typecheck error The value or constructor 'idAndReturnsRows' is not defined.\ninput.fsx (3,37)-(3,49) typecheck error Lookup on object of indeterminate type based on information prior to this program point. A type annotation may be needed prior to this program point to constrain the type of the object. This may allow the lookup to be resolved.\ninput.fsx (3,50)-(3,63) typecheck error Lookup on object of indeterminate type based on information prior to this program point. A type annotation may be needed prior to this program point to constrain the type of the object. This may allow the lookup to be resolved.\ninput.fsx (8,9)-(8,25) typecheck error The value or constructor 'idAndReturnsRows' is not defined.\ninput.fsx (9,40)-(9,52) typecheck error Lookup on object of indeterminate type based on information prior to this program point. A type annotation may be needed prior to this program point to constrain the type of the object. This may allow the lookup to be resolved.\ninput.fsx (9,53)-(9,66) typecheck error Lookup on object of indeterminate type based on information prior to this program point. A type annotation may be needed prior to this program point to constrain the type of the object. This may allow the lookup to be resolved.\ninput.fsx (13,20)-(13,35) typecheck error The value or constructor 'getSampleMonths' is not defined.\ninput.fsx (17,8)-(17,29) typecheck error The value or constructor 'getInvestmentUniverse' is not defined.\ninput.fsx (18,8)-(18,19) typecheck error The value or constructor 'doMyFilters' is not defined.\ninput.fsx (19,8)-(19,20) typecheck error The value or constructor 'getMySignals' is not defined.\ninput.fsx (20,8)-(20,24) typecheck error The value or constructor 'assignSignalSort' is not defined.\ninput.fsx (21,18)-(21,34) typecheck error The value or constructor 'giveValueWeights' is not defined.\ninput.fsx (22,18)-(22,36) typecheck error The value or constructor 'getPortfolioReturn' is not defined.",
     "output_type": "error",
     "traceback": [
      "input.fsx (2,5)-(2,21) typecheck error The value or constructor 'idAndReturnsRows' is not defined.\n",
      "input.fsx (3,37)-(3,49) typecheck error Lookup on object of indeterminate type based on information prior to this program point. A type annotation may be needed prior to this program point to constrain the type of the object. This may allow the lookup to be resolved.\n",
      "input.fsx (3,50)-(3,63) typecheck error Lookup on object of indeterminate type based on information prior to this program point. A type annotation may be needed prior to this program point to constrain the type of the object. This may allow the lookup to be resolved.\n",
      "input.fsx (8,9)-(8,25) typecheck error The value or constructor 'idAndReturnsRows' is not defined.\n",
      "input.fsx (9,40)-(9,52) typecheck error Lookup on object of indeterminate type based on information prior to this program point. A type annotation may be needed prior to this program point to constrain the type of the object. This may allow the lookup to be resolved.\n",
      "input.fsx (9,53)-(9,66) typecheck error Lookup on object of indeterminate type based on information prior to this program point. A type annotation may be needed prior to this program point to constrain the type of the object. This may allow the lookup to be resolved.\n",
      "input.fsx (13,20)-(13,35) typecheck error The value or constructor 'getSampleMonths' is not defined.\n",
      "input.fsx (17,8)-(17,29) typecheck error The value or constructor 'getInvestmentUniverse' is not defined.\n",
      "input.fsx (18,8)-(18,19) typecheck error The value or constructor 'doMyFilters' is not defined.\n",
      "input.fsx (19,8)-(19,20) typecheck error The value or constructor 'getMySignals' is not defined.\n",
      "input.fsx (20,8)-(20,24) typecheck error The value or constructor 'assignSignalSort' is not defined.\n",
      "input.fsx (21,18)-(21,34) typecheck error The value or constructor 'giveValueWeights' is not defined.\n",
      "input.fsx (22,18)-(22,36) typecheck error The value or constructor 'getPortfolioReturn' is not defined."
     ]
    }
   ],
   "source": [
    "let startSample = \n",
    "    idAndReturnsRows\n",
    "    |> List.map(fun row -> DateTime(row.Eom.Year,row.Eom.Month,1))\n",
    "    |> List.min\n",
    "\n",
    "let endSample = \n",
    "    let lastMonthWithData = \n",
    "        idAndReturnsRows\n",
    "        |> Seq.map(fun row -> DateTime(row.Eom.Year,row.Eom.Month,1))\n",
    "        |> Seq.max\n",
    "    lastMonthWithData.AddMonths(-1) \n",
    "\n",
    "let sampleMonths = getSampleMonths (startSample, endSample)\n",
    "\n",
    "let formStrategy ym =\n",
    "    ym\n",
    "    |> getInvestmentUniverse\n",
    "    |> doMyFilters\n",
    "    |> getMySignals\n",
    "    |> assignSignalSort strategyName 3\n",
    "    |> List.map (giveValueWeights getMarketCap)\n",
    "    |> List.map (getPortfolioReturn getSecurityReturn)  \n",
    "\n",
    "let doParallel = true\n",
    "let portfolios =\n",
    "    if doParallel then\n",
    "        sampleMonths\n",
    "        |> List.toArray\n",
    "        |> Array.Parallel.map formStrategy\n",
    "        |> Array.toList\n",
    "        |> List.collect id\n",
    "    else\n",
    "        sampleMonths\n",
    "        |> List.collect formStrategy"
   ]
  },
  {
   "cell_type": "code",
   "execution_count": 11,
   "metadata": {
    "dotnet_interactive": {
     "language": "fsharp"
    }
   },
   "outputs": [
    {
     "ename": "Error",
     "evalue": "input.fsx (1,11)-(1,17) typecheck error The value, namespace, type or module 'French' is not defined.\ninput.fsx (5,28)-(5,41) typecheck error Lookup on object of indeterminate type based on information prior to this program point. A type annotation may be needed prior to this program point to constrain the type of the object. This may allow the lookup to be resolved.\ninput.fsx (5,42)-(5,56) typecheck error Lookup on object of indeterminate type based on information prior to this program point. A type annotation may be needed prior to this program point to constrain the type of the object. This may allow the lookup to be resolved.\ninput.fsx (6,14)-(6,20) typecheck error Lookup on object of indeterminate type based on information prior to this program point. A type annotation may be needed prior to this program point to constrain the type of the object. This may allow the lookup to be resolved.\ninput.fsx (10,5)-(10,15) typecheck error The value or constructor 'portfolios' is not defined.\ninput.fsx (12,27)-(12,38) typecheck error Lookup on object of indeterminate type based on information prior to this program point. A type annotation may be needed prior to this program point to constrain the type of the object. This may allow the lookup to be resolved.\ninput.fsx (13,61)-(13,72) typecheck error Lookup on object of indeterminate type based on information prior to this program point. A type annotation may be needed prior to this program point to constrain the type of the object. This may allow the lookup to be resolved.\ninput.fsx (14,31)-(14,37) typecheck error The record label 'Return' is not defined.\ninput.fsx (19,9)-(19,22) typecheck error Lookup on object of indeterminate type based on information prior to this program point. A type annotation may be needed prior to this program point to constrain the type of the object. This may allow the lookup to be resolved.\ninput.fsx (19,25)-(19,32) typecheck error The value or constructor 'Indexed' is not defined. Maybe you want one of the following:\n   Index\ninput.fsx (21,31)-(21,46) typecheck error The type 'PortfolioReturn' is not defined.\ninput.fsx (22,31)-(22,46) typecheck error The type 'PortfolioReturn' is not defined.\ninput.fsx (22,57)-(22,72) typecheck error The type 'PortfolioReturn' is not defined.\ninput.fsx (23,30)-(23,45) typecheck error Lookup on object of indeterminate type based on information prior to this program point. A type annotation may be needed prior to this program point to constrain the type of the object. This may allow the lookup to be resolved.\ninput.fsx (23,54)-(23,68) typecheck error Lookup on object of indeterminate type based on information prior to this program point. A type annotation may be needed prior to this program point to constrain the type of the object. This may allow the lookup to be resolved.\ninput.fsx (24,24)-(24,30) typecheck error The record label 'Return' is not defined.\ninput.fsx (26,38)-(26,49) typecheck error Lookup on object of indeterminate type based on information prior to this program point. A type annotation may be needed prior to this program point to constrain the type of the object. This may allow the lookup to be resolved.\ninput.fsx (37,9)-(37,22) typecheck error Lookup on object of indeterminate type based on information prior to this program point. A type annotation may be needed prior to this program point to constrain the type of the object. This may allow the lookup to be resolved.\ninput.fsx (37,25)-(37,32) typecheck error The value or constructor 'Indexed' is not defined. Maybe you want one of the following:\n   Index\ninput.fsx (42,32)-(42,45) typecheck error Lookup on object of indeterminate type based on information prior to this program point. A type annotation may be needed prior to this program point to constrain the type of the object. This may allow the lookup to be resolved.\ninput.fsx (46,27)-(46,44) typecheck error Lookup on object of indeterminate type based on information prior to this program point. A type annotation may be needed prior to this program point to constrain the type of the object. This may allow the lookup to be resolved.\ninput.fsx (49,15)-(49,26) typecheck error The record label 'PortfolioId' is not defined.",
     "output_type": "error",
     "traceback": [
      "input.fsx (1,11)-(1,17) typecheck error The value, namespace, type or module 'French' is not defined.\n",
      "input.fsx (5,28)-(5,41) typecheck error Lookup on object of indeterminate type based on information prior to this program point. A type annotation may be needed prior to this program point to constrain the type of the object. This may allow the lookup to be resolved.\n",
      "input.fsx (5,42)-(5,56) typecheck error Lookup on object of indeterminate type based on information prior to this program point. A type annotation may be needed prior to this program point to constrain the type of the object. This may allow the lookup to be resolved.\n",
      "input.fsx (6,14)-(6,20) typecheck error Lookup on object of indeterminate type based on information prior to this program point. A type annotation may be needed prior to this program point to constrain the type of the object. This may allow the lookup to be resolved.\n",
      "input.fsx (10,5)-(10,15) typecheck error The value or constructor 'portfolios' is not defined.\n",
      "input.fsx (12,27)-(12,38) typecheck error Lookup on object of indeterminate type based on information prior to this program point. A type annotation may be needed prior to this program point to constrain the type of the object. This may allow the lookup to be resolved.\n",
      "input.fsx (13,61)-(13,72) typecheck error Lookup on object of indeterminate type based on information prior to this program point. A type annotation may be needed prior to this program point to constrain the type of the object. This may allow the lookup to be resolved.\n",
      "input.fsx (14,31)-(14,37) typecheck error The record label 'Return' is not defined.\n",
      "input.fsx (19,9)-(19,22) typecheck error Lookup on object of indeterminate type based on information prior to this program point. A type annotation may be needed prior to this program point to constrain the type of the object. This may allow the lookup to be resolved.\n",
      "input.fsx (19,25)-(19,32) typecheck error The value or constructor 'Indexed' is not defined. Maybe you want one of the following:\n",
      "   Index\n",
      "input.fsx (21,31)-(21,46) typecheck error The type 'PortfolioReturn' is not defined.\n",
      "input.fsx (22,31)-(22,46) typecheck error The type 'PortfolioReturn' is not defined.\n",
      "input.fsx (22,57)-(22,72) typecheck error The type 'PortfolioReturn' is not defined.\n",
      "input.fsx (23,30)-(23,45) typecheck error Lookup on object of indeterminate type based on information prior to this program point. A type annotation may be needed prior to this program point to constrain the type of the object. This may allow the lookup to be resolved.\n",
      "input.fsx (23,54)-(23,68) typecheck error Lookup on object of indeterminate type based on information prior to this program point. A type annotation may be needed prior to this program point to constrain the type of the object. This may allow the lookup to be resolved.\n",
      "input.fsx (24,24)-(24,30) typecheck error The record label 'Return' is not defined.\n",
      "input.fsx (26,38)-(26,49) typecheck error Lookup on object of indeterminate type based on information prior to this program point. A type annotation may be needed prior to this program point to constrain the type of the object. This may allow the lookup to be resolved.\n",
      "input.fsx (37,9)-(37,22) typecheck error Lookup on object of indeterminate type based on information prior to this program point. A type annotation may be needed prior to this program point to constrain the type of the object. This may allow the lookup to be resolved.\n",
      "input.fsx (37,25)-(37,32) typecheck error The value or constructor 'Indexed' is not defined. Maybe you want one of the following:\n",
      "   Index\n",
      "input.fsx (42,32)-(42,45) typecheck error Lookup on object of indeterminate type based on information prior to this program point. A type annotation may be needed prior to this program point to constrain the type of the object. This may allow the lookup to be resolved.\n",
      "input.fsx (46,27)-(46,44) typecheck error Lookup on object of indeterminate type based on information prior to this program point. A type annotation may be needed prior to this program point to constrain the type of the object. This may allow the lookup to be resolved.\n",
      "input.fsx (49,15)-(49,26) typecheck error The record label 'PortfolioId' is not defined."
     ]
    }
   ],
   "source": [
    "let ff3 = French.getFF3 Frequency.Monthly\n",
    "\n",
    "let monthlyRiskFreeRate =\n",
    "    [ for obs in ff3 do \n",
    "        let key = DateTime(obs.Date.Year,obs.Date.Month,1)\n",
    "        key, obs.Rf ]\n",
    "    |> Map\n",
    "\n",
    "let portfolioExcessReturns =\n",
    "    portfolios\n",
    "    |> List.map(fun x -> \n",
    "        match Map.tryFind x.YearMonth monthlyRiskFreeRate with \n",
    "        | None -> failwith $\"Can't find risk-free rate for {x.YearMonth}\"\n",
    "        | Some rf -> { x with Return = x.Return - rf })\n",
    "\n",
    "let long = \n",
    "    portfolioExcessReturns \n",
    "    |> List.filter(fun x -> \n",
    "        x.PortfolioId = Indexed {| Name = strategyName; Index = 3 |})\n",
    "    \n",
    "let cumulateSimpleReturn (xs: PortfolioReturn list) =\n",
    "    let accumulator (priorObs:PortfolioReturn) (thisObs:PortfolioReturn) =\n",
    "        let asOfNow = (1.0 + priorObs.Return)*(1.0 + thisObs.Return) - 1.0\n",
    "        { thisObs with Return = asOfNow}\n",
    "    // remember to make sure that your sort order is correct.\n",
    "    match xs |> List.sortBy(fun x -> x.YearMonth) with\n",
    "    | [] -> []      // return empty list if the input list is empty\n",
    "    | head::tail -> // if there are observations do the calculation\n",
    "        (head, tail) \n",
    "        ||> List.scan accumulator\n",
    "\n",
    "let longCumulative = long |> cumulateSimpleReturn\n",
    "\n",
    "let short = \n",
    "    portfolioExcessReturns \n",
    "    |> List.filter(fun x -> \n",
    "        x.PortfolioId = Indexed {| Name = strategyName; Index = 1 |})\n",
    "\n",
    "let longShort = \n",
    "    let shortByYearMonthMap = \n",
    "        short \n",
    "        |> List.map(fun row -> row.YearMonth, row) \n",
    "        |> Map\n",
    "    \n",
    "    [ for longObs in long do\n",
    "        match Map.tryFind longObs.YearMonth shortByYearMonthMap with\n",
    "        | None -> failwith \"probably your date variables are not aligned for a weird reason\"\n",
    "        | Some shortObs ->\n",
    "            { PortfolioId = Named \"Long-Short\"\n",
    "              YearMonth = longObs.YearMonth\n",
    "              Return = longObs.Return - shortObs.Return } ]\n"
   ]
  },
  {
   "cell_type": "code",
   "execution_count": 12,
   "metadata": {
    "dotnet_interactive": {
     "language": "fsharp"
    }
   },
   "outputs": [],
   "source": []
  },
  {
   "cell_type": "markdown",
   "metadata": {},
   "source": [
    "**Analyze the performance of your long-only and long-short portfolios**"
   ]
  },
  {
   "cell_type": "code",
   "execution_count": 13,
   "metadata": {
    "dotnet_interactive": {
     "language": "fsharp"
    }
   },
   "outputs": [
    {
     "ename": "Error",
     "evalue": "input.fsx (2,5)-(2,19) typecheck error The value or constructor 'longCumulative' is not defined.\ninput.fsx (3,26)-(3,37) typecheck error Lookup on object of indeterminate type based on information prior to this program point. A type annotation may be needed prior to this program point to constrain the type of the object. This may allow the lookup to be resolved.\ninput.fsx (3,39)-(3,47) typecheck error Lookup on object of indeterminate type based on information prior to this program point. A type annotation may be needed prior to this program point to constrain the type of the object. This may allow the lookup to be resolved.",
     "output_type": "error",
     "traceback": [
      "input.fsx (2,5)-(2,19) typecheck error The value or constructor 'longCumulative' is not defined.\n",
      "input.fsx (3,26)-(3,37) typecheck error Lookup on object of indeterminate type based on information prior to this program point. A type annotation may be needed prior to this program point to constrain the type of the object. This may allow the lookup to be resolved.\n",
      "input.fsx (3,39)-(3,47) typecheck error Lookup on object of indeterminate type based on information prior to this program point. A type annotation may be needed prior to this program point to constrain the type of the object. This may allow the lookup to be resolved."
     ]
    }
   ],
   "source": [
    "let longCumulativeChart =\n",
    "    longCumulative\n",
    "    |> List.map(fun x -> x.YearMonth, x.Return)\n",
    "    |> Chart.Line \n",
    "    |> Chart.withTitle \"Growth of 1 Euro\"\n",
    "\n",
    "longCumulativeChart"
   ]
  },
  {
   "cell_type": "code",
   "execution_count": 14,
   "metadata": {
    "dotnet_interactive": {
     "language": "fsharp"
    }
   },
   "outputs": [
    {
     "ename": "Error",
     "evalue": "input.fsx (1,29)-(1,44) typecheck error The type 'PortfolioReturn' is not defined.\ninput.fsx (3,26)-(3,37) typecheck error Lookup on object of indeterminate type based on information prior to this program point. A type annotation may be needed prior to this program point to constrain the type of the object. This may allow the lookup to be resolved.\ninput.fsx (3,39)-(3,47) typecheck error Lookup on object of indeterminate type based on information prior to this program point. A type annotation may be needed prior to this program point to constrain the type of the object. This may allow the lookup to be resolved.\ninput.fsx (8,18)-(8,22) typecheck error The value or constructor 'long' is not defined. Maybe you want one of the following:\n   log\n   log2\ninput.fsx (8,24)-(8,33) typecheck error The value or constructor 'longShort' is not defined.\ninput.fsx (9,30)-(9,43) typecheck error Lookup on object of indeterminate type based on information prior to this program point. A type annotation may be needed prior to this program point to constrain the type of the object. This may allow the lookup to be resolved.\ninput.fsx (12,12)-(12,32) typecheck error The value or constructor 'cumulateSimpleReturn' is not defined.",
     "output_type": "error",
     "traceback": [
      "input.fsx (1,29)-(1,44) typecheck error The type 'PortfolioReturn' is not defined.\n",
      "input.fsx (3,26)-(3,37) typecheck error Lookup on object of indeterminate type based on information prior to this program point. A type annotation may be needed prior to this program point to constrain the type of the object. This may allow the lookup to be resolved.\n",
      "input.fsx (3,39)-(3,47) typecheck error Lookup on object of indeterminate type based on information prior to this program point. A type annotation may be needed prior to this program point to constrain the type of the object. This may allow the lookup to be resolved.\n",
      "input.fsx (8,18)-(8,22) typecheck error The value or constructor 'long' is not defined. Maybe you want one of the following:\n",
      "   log\n",
      "   log2\n",
      "input.fsx (8,24)-(8,33) typecheck error The value or constructor 'longShort' is not defined.\n",
      "input.fsx (9,30)-(9,43) typecheck error Lookup on object of indeterminate type based on information prior to this program point. A type annotation may be needed prior to this program point to constrain the type of the object. This may allow the lookup to be resolved.\n",
      "input.fsx (12,12)-(12,32) typecheck error The value or constructor 'cumulateSimpleReturn' is not defined."
     ]
    }
   ],
   "source": [
    "let portfolioReturnPlot (xs:PortfolioReturn list) =\n",
    "    xs\n",
    "    |> List.map(fun x -> x.YearMonth, x.Return)\n",
    "    |> Chart.Line \n",
    "    |> Chart.withTitle \"Growth of 1 Euro\"\n",
    "\n",
    "let combinedChart =\n",
    "    List.concat [long; longShort]\n",
    "    |> List.groupBy(fun x -> x.PortfolioId)\n",
    "    |> List.map(fun (portId, xs) ->\n",
    "        xs\n",
    "        |> cumulateSimpleReturn\n",
    "        |> portfolioReturnPlot\n",
    "        |> Chart.withTraceInfo (Name=portId.ToString()))\n",
    "    |> Chart.combine\n",
    "combinedChart"
   ]
  },
  {
   "cell_type": "code",
   "execution_count": 15,
   "metadata": {
    "dotnet_interactive": {
     "language": "fsharp"
    }
   },
   "outputs": [],
   "source": []
  },
  {
   "cell_type": "markdown",
   "metadata": {},
   "source": [
    "## Strategy as part of a diversified porfolio\n",
    "\n",
    "**Identify the tangency portfolio; one version using your long-only portfolio**"
   ]
  },
  {
   "cell_type": "code",
   "execution_count": 16,
   "metadata": {
    "dotnet_interactive": {
     "language": "fsharp"
    }
   },
   "outputs": [],
   "source": []
  },
  {
   "cell_type": "code",
   "execution_count": 17,
   "metadata": {
    "dotnet_interactive": {
     "language": "fsharp"
    }
   },
   "outputs": [],
   "source": []
  },
  {
   "cell_type": "markdown",
   "metadata": {},
   "source": [
    "**Form comparison diversified portfolios**"
   ]
  },
  {
   "cell_type": "code",
   "execution_count": 18,
   "metadata": {
    "dotnet_interactive": {
     "language": "fsharp"
    }
   },
   "outputs": [],
   "source": []
  },
  {
   "cell_type": "code",
   "execution_count": 19,
   "metadata": {
    "dotnet_interactive": {
     "language": "fsharp"
    }
   },
   "outputs": [],
   "source": []
  },
  {
   "cell_type": "markdown",
   "metadata": {},
   "source": [
    "**Analyze the performance of your mean-variance efficient portfolios and\n",
    "your comparison diversified portfolio or portfolios**"
   ]
  },
  {
   "cell_type": "code",
   "execution_count": 20,
   "metadata": {
    "dotnet_interactive": {
     "language": "fsharp"
    }
   },
   "outputs": [],
   "source": []
  },
  {
   "cell_type": "code",
   "execution_count": 21,
   "metadata": {
    "dotnet_interactive": {
     "language": "fsharp"
    }
   },
   "outputs": [],
   "source": []
  }
 ],
 "metadata": {
  "kernelspec": {
   "display_name": ".NET (F#)",
   "language": "F#",
   "name": ".net-fsharp"
  },
  "langauge_info": {
   "file_extension": ".fs",
   "mimetype": "text/x-fsharp",
   "name": "C#",
   "pygments_lexer": "fsharp",
   "version": "4.5"
  },
  "language_info": {
   "name": "polyglot-notebook"
  },
  "polyglot_notebook": {
   "kernelInfo": {
    "defaultKernelName": "fsharp",
    "items": [
     {
      "aliases": [],
      "name": "fsharp"
     }
    ]
   }
  }
 },
 "nbformat": 4,
 "nbformat_minor": 1
}
